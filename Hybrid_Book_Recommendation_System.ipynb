{
 "cells": [
  {
   "cell_type": "markdown",
   "id": "f26a5aa0",
   "metadata": {},
   "source": [
    "# Hybrid Book Recommendation System"
   ]
  },
  {
   "cell_type": "markdown",
   "id": "a3978a0a",
   "metadata": {},
   "source": [
    "Initiate Pyspark"
   ]
  },
  {
   "cell_type": "code",
   "execution_count": 1,
   "id": "fc7aac69",
   "metadata": {},
   "outputs": [
    {
     "data": {
      "text/plain": [
       "'C:\\\\Spark\\\\spark-3.1.2-bin-hadoop3.2'"
      ]
     },
     "execution_count": 1,
     "metadata": {},
     "output_type": "execute_result"
    }
   ],
   "source": [
    "# To initiate PySPark in Jupyter Notebook\n",
    "import findspark\n",
    "findspark.init()\n",
    "\n",
    "findspark.find()\n",
    "import pyspark\n",
    "findspark.find()"
   ]
  },
  {
   "cell_type": "markdown",
   "id": "75d7b314",
   "metadata": {},
   "source": [
    "# Import Libraries"
   ]
  },
  {
   "cell_type": "code",
   "execution_count": 2,
   "id": "76babb75",
   "metadata": {},
   "outputs": [],
   "source": [
    "from pyspark import SparkContext\n",
    "from pyspark.sql import SparkSession, SQLContext, types\n",
    "from pyspark.ml.evaluation import RegressionEvaluator\n",
    "from pyspark.ml.recommendation import ALS\n",
    "from pyspark.ml.tuning import CrossValidator , ParamGridBuilder\n",
    "from pyspark.sql.functions import col\n",
    "import numpy as np\n",
    "from pyspark.sql.types import IntegerType\n",
    "from pyspark.ml.feature import Imputer\n",
    "from pyspark.ml.feature import VectorAssembler\n",
    "from pyspark.ml.feature import StandardScaler\n",
    "from pyspark.ml.clustering import KMeans\n",
    "from pyspark.ml.evaluation import ClusteringEvaluator\n",
    "import matplotlib.pyplot as plt\n",
    "from IPython.display import Image\n",
    "from IPython.display import display\n",
    "import pandas as pd\n",
    "\n",
    "sc = SparkContext.getOrCreate()\n",
    "sqlContext = SQLContext(sc)"
   ]
  },
  {
   "cell_type": "markdown",
   "id": "50f2fb0b",
   "metadata": {},
   "source": [
    "# Read and Print Schema"
   ]
  },
  {
   "cell_type": "code",
   "execution_count": 3,
   "id": "4b4b307d",
   "metadata": {},
   "outputs": [
    {
     "name": "stdout",
     "output_type": "stream",
     "text": [
      "root\n",
      " |-- id: integer (nullable = true)\n",
      " |-- user_id: integer (nullable = true)\n",
      " |-- rating: integer (nullable = true)\n",
      "\n"
     ]
    }
   ],
   "source": [
    "# Reading and Printing Schema for Ratings.csv\n",
    "\n",
    "spark = SparkSession.builder.master('local').appName('brsals').getOrCreate()\n",
    "ratings_df = spark.read.csv('ratings.csv', header = True, inferSchema = True)\n",
    "ratings_df.printSchema()"
   ]
  },
  {
   "cell_type": "markdown",
   "id": "c533519c",
   "metadata": {},
   "source": [
    "# Display top 5 rows"
   ]
  },
  {
   "cell_type": "code",
   "execution_count": 4,
   "id": "64c69709",
   "metadata": {},
   "outputs": [
    {
     "name": "stdout",
     "output_type": "stream",
     "text": [
      "+---+-------+------+\n",
      "| id|user_id|rating|\n",
      "+---+-------+------+\n",
      "|  1|    314|     5|\n",
      "|  1|    439|     3|\n",
      "|  1|    588|     5|\n",
      "|  1|   1169|     4|\n",
      "|  1|   1185|     4|\n",
      "+---+-------+------+\n",
      "only showing top 5 rows\n",
      "\n"
     ]
    }
   ],
   "source": [
    "# Displaying top 5 rows of Ratings.csv\n",
    "\n",
    "ratings_df.show(5)"
   ]
  },
  {
   "cell_type": "markdown",
   "id": "d5ea987a",
   "metadata": {},
   "source": [
    "Read and Print Schema for books.csv"
   ]
  },
  {
   "cell_type": "code",
   "execution_count": 5,
   "id": "70ce2b52",
   "metadata": {},
   "outputs": [
    {
     "name": "stdout",
     "output_type": "stream",
     "text": [
      "root\n",
      " |-- id: integer (nullable = true)\n",
      " |-- book_id: integer (nullable = true)\n",
      " |-- best_book_id: integer (nullable = true)\n",
      " |-- work_id: integer (nullable = true)\n",
      " |-- books_count: integer (nullable = true)\n",
      " |-- isbn: string (nullable = true)\n",
      " |-- isbn13: double (nullable = true)\n",
      " |-- authors: string (nullable = true)\n",
      " |-- original_publication_year: double (nullable = true)\n",
      " |-- original_title: string (nullable = true)\n",
      " |-- title: string (nullable = true)\n",
      " |-- language_code: string (nullable = true)\n",
      " |-- average_rating: string (nullable = true)\n",
      " |-- ratings_count: string (nullable = true)\n",
      " |-- work_ratings_count: string (nullable = true)\n",
      " |-- work_text_reviews_count: string (nullable = true)\n",
      " |-- ratings_1: double (nullable = true)\n",
      " |-- ratings_2: integer (nullable = true)\n",
      " |-- ratings_3: integer (nullable = true)\n",
      " |-- ratings_4: integer (nullable = true)\n",
      " |-- ratings_5: integer (nullable = true)\n",
      " |-- image_url: string (nullable = true)\n",
      " |-- small_image_url: string (nullable = true)\n",
      "\n"
     ]
    }
   ],
   "source": [
    "# Reading and Printing Schema for books.csv\n",
    "\n",
    "books_df = spark.read.csv('books.csv', header = True, inferSchema = True)\n",
    "books_df.printSchema()"
   ]
  },
  {
   "cell_type": "markdown",
   "id": "b1290f16",
   "metadata": {},
   "source": [
    "Display top 2 rows of books.csv"
   ]
  },
  {
   "cell_type": "code",
   "execution_count": 6,
   "id": "97bc0663",
   "metadata": {},
   "outputs": [
    {
     "name": "stdout",
     "output_type": "stream",
     "text": [
      "+---+-------+------------+-------+-----------+---------+----------------+--------------------+-------------------------+--------------------+--------------------+-------------+--------------+-------------+------------------+-----------------------+---------+---------+---------+---------+---------+--------------------+--------------------+\n",
      "| id|book_id|best_book_id|work_id|books_count|     isbn|          isbn13|             authors|original_publication_year|      original_title|               title|language_code|average_rating|ratings_count|work_ratings_count|work_text_reviews_count|ratings_1|ratings_2|ratings_3|ratings_4|ratings_5|           image_url|     small_image_url|\n",
      "+---+-------+------------+-------+-----------+---------+----------------+--------------------+-------------------------+--------------------+--------------------+-------------+--------------+-------------+------------------+-----------------------+---------+---------+---------+---------+---------+--------------------+--------------------+\n",
      "|  1|2767052|     2767052|2792775|        272|439023483|9.78043902348E12|     Suzanne Collins|                   2008.0|    The Hunger Games|The Hunger Games ...|          eng|          4.34|      4780653|           4942365|                 155254|  66715.0|   127936|   560092|  1481305|  2706317|https://images.gr...|https://images.gr...|\n",
      "|  2|      3|           3|4640799|        491|439554934|9.78043955493E12|J.K. Rowling, Mar...|                   1997.0|Harry Potter and ...|Harry Potter and ...|          eng|          4.44|      4602479|           4800065|                  75867|  75504.0|   101676|   455024|  1156318|  3011543|https://images.gr...|https://images.gr...|\n",
      "+---+-------+------------+-------+-----------+---------+----------------+--------------------+-------------------------+--------------------+--------------------+-------------+--------------+-------------+------------------+-----------------------+---------+---------+---------+---------+---------+--------------------+--------------------+\n",
      "only showing top 2 rows\n",
      "\n"
     ]
    }
   ],
   "source": [
    "# Displaying top 2 rows of books.csv\n",
    "\n",
    "books_df.show(2)"
   ]
  },
  {
   "cell_type": "markdown",
   "id": "4fdb5e86",
   "metadata": {},
   "source": [
    "# Alternating Least Squares"
   ]
  },
  {
   "cell_type": "markdown",
   "id": "fca69d30",
   "metadata": {},
   "source": [
    "Splitting data into Training and Testing"
   ]
  },
  {
   "cell_type": "code",
   "execution_count": 7,
   "id": "371f4e86",
   "metadata": {},
   "outputs": [],
   "source": [
    "training_df , validation_df = ratings_df.randomSplit([0.8 , 0.2])"
   ]
  },
  {
   "cell_type": "code",
   "execution_count": 8,
   "id": "152eaa4d",
   "metadata": {},
   "outputs": [],
   "source": [
    "iterations = 10\n",
    "regularization_parameter = 0.1 #lambda\n",
    "rank = 4\n",
    "errors = []\n",
    "err = 0"
   ]
  },
  {
   "cell_type": "markdown",
   "id": "61923a87",
   "metadata": {},
   "source": [
    "# Training ALS Model"
   ]
  },
  {
   "cell_type": "code",
   "execution_count": 11,
   "id": "7c55a097",
   "metadata": {},
   "outputs": [
    {
     "name": "stdout",
     "output_type": "stream",
     "text": [
      "Root Mean Square Error Value = 0.8955888873339468\n"
     ]
    }
   ],
   "source": [
    "# Training ALS Model\n",
    "\n",
    "als = ALS(maxIter = iterations , regParam = regularization_parameter , rank = 4 , userCol = \"user_id\" , itemCol= \"id\",\n",
    "         ratingCol = \"rating\")\n",
    "model = als.fit(training_df)\n",
    "predictions = model.transform(validation_df)\n",
    "new_predictions = predictions.filter(col('prediction') !=np.nan)\n",
    "evaluator = RegressionEvaluator(metricName = \"rmse\" , labelCol = \"rating\" , predictionCol = \"prediction\")\n",
    "rmse = evaluator.evaluate(new_predictions)\n",
    "print(\"Root Mean Square Error Value = \" +str(rmse))"
   ]
  },
  {
   "cell_type": "markdown",
   "id": "95418fa7",
   "metadata": {},
   "source": [
    "# Root Mean Square Error"
   ]
  },
  {
   "cell_type": "code",
   "execution_count": 12,
   "id": "b8f218f3",
   "metadata": {},
   "outputs": [
    {
     "name": "stdout",
     "output_type": "stream",
     "text": [
      "Rank :  4  Root Mean Square Error Value = 0.8955888873339468\n",
      "Rank :  5  Root Mean Square Error Value = 0.9008007108599035\n"
     ]
    }
   ],
   "source": [
    "# Finding different RMSE Rank value for ALS Model\n",
    "\n",
    "for rank in range(4,6):\n",
    "    als = ALS(maxIter = iterations , regParam = regularization_parameter , rank = rank , userCol = \"user_id\" , itemCol= \"id\",\n",
    "         ratingCol = \"rating\")\n",
    "    modeli = als.fit(training_df)\n",
    "    predictions = modeli.transform(validation_df)\n",
    "    new_predictions = predictions.filter(col('prediction') !=np.nan)\n",
    "    evaluator = RegressionEvaluator(metricName = \"rmse\" , labelCol = \"rating\" , predictionCol = \"prediction\")\n",
    "    rmse = evaluator.evaluate(new_predictions)\n",
    "    print(\"Rank : \" ,rank , \" Root Mean Square Error Value = \" +str(rmse))"
   ]
  },
  {
   "cell_type": "code",
   "execution_count": 13,
   "id": "c9dbdce0",
   "metadata": {},
   "outputs": [
    {
     "name": "stdout",
     "output_type": "stream",
     "text": [
      "+---+-------+------+----------+\n",
      "| id|user_id|rating|prediction|\n",
      "+---+-------+------+----------+\n",
      "|148|  20467|     3| 2.9313886|\n",
      "|148|    588|     4| 3.2716587|\n",
      "+---+-------+------+----------+\n",
      "only showing top 2 rows\n",
      "\n"
     ]
    }
   ],
   "source": [
    "predictions = model.transform(validation_df)\n",
    "predictions.show(n=2)"
   ]
  },
  {
   "cell_type": "code",
   "execution_count": 14,
   "id": "3933d7f8",
   "metadata": {},
   "outputs": [
    {
     "name": "stdout",
     "output_type": "stream",
     "text": [
      "+-------+--------------------+----------+\n",
      "|user_id|               title|prediction|\n",
      "+-------+--------------------+----------+\n",
      "|  20467|Girl with a Pearl...| 2.9313886|\n",
      "|    588|Girl with a Pearl...| 3.2716587|\n",
      "+-------+--------------------+----------+\n",
      "only showing top 2 rows\n",
      "\n"
     ]
    }
   ],
   "source": [
    "predictions.join(books_df , \"id\").select(\"user_id\" , \"title\" , \"prediction\").show(2)"
   ]
  },
  {
   "cell_type": "code",
   "execution_count": 15,
   "id": "c195d361",
   "metadata": {},
   "outputs": [
    {
     "data": {
      "text/plain": [
       "33"
      ]
     },
     "execution_count": 15,
     "metadata": {},
     "output_type": "execute_result"
    }
   ],
   "source": [
    "for_one_user = predictions.filter(col(\"user_id\") == 35982).join(books_df , \"id\").select(\"user_id\" , \"title\" , \"image_url\" , \"prediction\")\n",
    "for_one_user.count()"
   ]
  },
  {
   "cell_type": "code",
   "execution_count": 16,
   "id": "303c60b5",
   "metadata": {},
   "outputs": [
    {
     "name": "stdout",
     "output_type": "stream",
     "text": [
      "+-------+--------------------+--------------------+----------+\n",
      "|user_id|               title|           image_url|prediction|\n",
      "+-------+--------------------+--------------------+----------+\n",
      "|  35982|The Farthest Shor...|https://s.gr-asse...| 3.5523796|\n",
      "|  35982|   A Little Princess|https://images.gr...| 3.8358064|\n",
      "|  35982|Eragon (The Inher...|https://images.gr...| 2.7382224|\n",
      "|  35982|Dune (Dune Chroni...|https://images.gr...|  3.870625|\n",
      "|  35982|The Goose Girl (T...|https://images.gr...| 3.0788803|\n",
      "|  35982|Alanna: The First...|https://s.gr-asse...| 3.5028934|\n",
      "|  35982|The No. 1 Ladies'...|https://images.gr...| 3.1786587|\n",
      "|  35982|   Wide Sargasso Sea|https://images.gr...|  3.516743|\n",
      "|  35982|Island of the Blu...|https://images.gr...|  3.775589|\n",
      "|  35982|Anna and the Fren...|https://images.gr...| 2.4385295|\n",
      "|  35982|We Have Always Li...|https://images.gr...|   4.11443|\n",
      "|  35982|Sir Gawain and th...|https://images.gr...| 3.3239255|\n",
      "|  35982|     Never Let Me Go|https://images.gr...| 3.5469549|\n",
      "|  35982|Wild Magic (Immor...|https://images.gr...| 3.0367396|\n",
      "|  35982|Hush, Hush (Hush,...|https://images.gr...| 1.7773253|\n",
      "|  35982|      Ella Enchanted|https://images.gr...| 3.6051173|\n",
      "|  35982|             Fangirl|https://images.gr...| 3.5850437|\n",
      "|  35982|       Cold Mountain|https://s.gr-asse...| 3.7755928|\n",
      "|  35982|The Raven Boys (T...|https://images.gr...| 3.4769306|\n",
      "|  35982|The Sisters Brothers|https://images.gr...| 3.4798572|\n",
      "+-------+--------------------+--------------------+----------+\n",
      "only showing top 20 rows\n",
      "\n"
     ]
    }
   ],
   "source": [
    "for_one_user.show()"
   ]
  },
  {
   "cell_type": "code",
   "execution_count": 17,
   "id": "e2a2d155",
   "metadata": {},
   "outputs": [
    {
     "name": "stdout",
     "output_type": "stream",
     "text": [
      "The Farthest Shore (Earthsea Cycle, #3)\n"
     ]
    },
    {
     "data": {
      "text/html": [
       "<img src=\"https://s.gr-assets.com/assets/nophoto/book/111x148-bcc042a9c91a29c1d680899eff700a03.png\"/>"
      ],
      "text/plain": [
       "<IPython.core.display.Image object>"
      ]
     },
     "metadata": {},
     "output_type": "display_data"
    },
    {
     "name": "stdout",
     "output_type": "stream",
     "text": [
      "A Little Princess\n"
     ]
    },
    {
     "data": {
      "text/html": [
       "<img src=\"https://images.gr-assets.com/books/1327868556m/3008.jpg\"/>"
      ],
      "text/plain": [
       "<IPython.core.display.Image object>"
      ]
     },
     "metadata": {},
     "output_type": "display_data"
    },
    {
     "name": "stdout",
     "output_type": "stream",
     "text": [
      "Eragon (The Inheritance Cycle, #1)\n"
     ]
    },
    {
     "data": {
      "text/html": [
       "<img src=\"https://images.gr-assets.com/books/1366212852m/113436.jpg\"/>"
      ],
      "text/plain": [
       "<IPython.core.display.Image object>"
      ]
     },
     "metadata": {},
     "output_type": "display_data"
    },
    {
     "name": "stdout",
     "output_type": "stream",
     "text": [
      "Dune (Dune Chronicles #1)\n"
     ]
    },
    {
     "data": {
      "text/html": [
       "<img src=\"https://images.gr-assets.com/books/1434908555m/234225.jpg\"/>"
      ],
      "text/plain": [
       "<IPython.core.display.Image object>"
      ]
     },
     "metadata": {},
     "output_type": "display_data"
    },
    {
     "name": "stdout",
     "output_type": "stream",
     "text": [
      "The Goose Girl (The Books of Bayern, #1)\n"
     ]
    },
    {
     "data": {
      "text/html": [
       "<img src=\"https://images.gr-assets.com/books/1330728389m/179064.jpg\"/>"
      ],
      "text/plain": [
       "<IPython.core.display.Image object>"
      ]
     },
     "metadata": {},
     "output_type": "display_data"
    }
   ],
   "source": [
    "for book in for_one_user.take(5):\n",
    "    print(book.title)\n",
    "    display(Image(url=book.image_url))"
   ]
  },
  {
   "cell_type": "markdown",
   "id": "eb520a8e",
   "metadata": {},
   "source": [
    "Generate top 2 recommendations"
   ]
  },
  {
   "cell_type": "code",
   "execution_count": 18,
   "id": "1f5f433b",
   "metadata": {},
   "outputs": [],
   "source": [
    "#Generate top 2 recommendations for each user\n",
    "\n",
    "userRecomments = model.recommendForAllUsers(2)"
   ]
  },
  {
   "cell_type": "markdown",
   "id": "75232b81",
   "metadata": {},
   "source": [
    "Show 10 users with 2 recommended books"
   ]
  },
  {
   "cell_type": "code",
   "execution_count": 19,
   "id": "10a404f5",
   "metadata": {},
   "outputs": [
    {
     "name": "stdout",
     "output_type": "stream",
     "text": [
      "+-------+------------+\n",
      "|user_id|id          |\n",
      "+-------+------------+\n",
      "|148    |[5207, 3491]|\n",
      "|463    |[7762, 6590]|\n",
      "|471    |[3836, 8606]|\n",
      "|496    |[2681, 9461]|\n",
      "|833    |[4868, 3885]|\n",
      "|1088   |[9479, 3953]|\n",
      "|1238   |[4868, 4]   |\n",
      "|1342   |[4, 4336]   |\n",
      "|1580   |[6590, 5207]|\n",
      "|1591   |[6590, 3920]|\n",
      "+-------+------------+\n",
      "only showing top 10 rows\n",
      "\n"
     ]
    }
   ],
   "source": [
    "# Showing 10 users with 2 recommended books each\n",
    "\n",
    "userRecomments.select(\"user_id\" , \"recommendations.id\").show(10, False)"
   ]
  },
  {
   "cell_type": "markdown",
   "id": "0265bf84",
   "metadata": {},
   "source": [
    "# Schema for recommendation"
   ]
  },
  {
   "cell_type": "code",
   "execution_count": 20,
   "id": "f27c0b0c",
   "metadata": {},
   "outputs": [
    {
     "name": "stdout",
     "output_type": "stream",
     "text": [
      "root\n",
      " |-- user_id: integer (nullable = false)\n",
      " |-- recommendations: array (nullable = true)\n",
      " |    |-- element: struct (containsNull = true)\n",
      " |    |    |-- id: integer (nullable = true)\n",
      " |    |    |-- rating: float (nullable = true)\n",
      "\n"
     ]
    }
   ],
   "source": [
    "#Schema for recommendation\n",
    "\n",
    "userRecomments.printSchema()"
   ]
  },
  {
   "cell_type": "markdown",
   "id": "72650a6e",
   "metadata": {},
   "source": [
    "# Taking input for user id"
   ]
  },
  {
   "cell_type": "code",
   "execution_count": 21,
   "id": "55ac39bd",
   "metadata": {},
   "outputs": [
    {
     "name": "stdout",
     "output_type": "stream",
     "text": [
      "Enter your ID:314\n",
      "+-------+\n",
      "|User_id|\n",
      "+-------+\n",
      "|    314|\n",
      "+-------+\n",
      "\n"
     ]
    }
   ],
   "source": [
    "# Instead of generating recommendation for all the users we are taking input as user id from the user\n",
    "\n",
    "name_id = int(input(\"Enter your ID:\"))\n",
    "u_id = {'User_id':[name_id]}\n",
    "u_id = pd.DataFrame(u_id)\n",
    "users = spark.createDataFrame(u_id)\n",
    "users.show()"
   ]
  },
  {
   "cell_type": "markdown",
   "id": "2e0187b6",
   "metadata": {},
   "source": [
    "# Generate Recommendation for one user"
   ]
  },
  {
   "cell_type": "code",
   "execution_count": 22,
   "id": "11c77729",
   "metadata": {},
   "outputs": [
    {
     "name": "stdout",
     "output_type": "stream",
     "text": [
      "+-------+--------------------+\n",
      "|user_id|     recommendations|\n",
      "+-------+--------------------+\n",
      "|    314|[{5207, 4.522235}...|\n",
      "+-------+--------------------+\n",
      "\n"
     ]
    }
   ],
   "source": [
    "usersSubsetRecs = model.recommendForUserSubset( users , 20)\n",
    "#Now we will generate recommendation for above 1 user_id , for that we will use api recommendForUserSubset\n",
    "userrecommend = usersSubsetRecs.select(\"user_id\",\"recommendations\")\n",
    "userrecommend.show()\n",
    "# Recommendations: List contains list of (book_id and predicted rating value) for all 20 books"
   ]
  },
  {
   "cell_type": "markdown",
   "id": "e5a5e027",
   "metadata": {},
   "source": [
    "# Recommended book id"
   ]
  },
  {
   "cell_type": "code",
   "execution_count": 23,
   "id": "057718d3",
   "metadata": {},
   "outputs": [
    {
     "name": "stdout",
     "output_type": "stream",
     "text": [
      "   user_id             recommendations    id  rate_prediction\n",
      "0      314   (5207, 4.522234916687012)  5207         4.522235\n",
      "0      314   (6590, 4.479695796966553)  6590         4.479696\n",
      "0      314  (9566, 4.4620537757873535)  9566         4.462054\n",
      "0      314   (6920, 4.458487510681152)  6920         4.458488\n",
      "0      314   (1788, 4.440154552459717)  1788         4.440155\n",
      "0      314   (7254, 4.406615257263184)  7254         4.406615\n",
      "0      314   (862, 4.4056901931762695)   862         4.405690\n",
      "0      314   (4483, 4.395471096038818)  4483         4.395471\n",
      "0      314   (3628, 4.379123687744141)  3628         4.379124\n",
      "0      314  (8978, 4.3494648933410645)  8978         4.349465\n",
      "0      314  (8109, 4.3411173820495605)  8109         4.341117\n",
      "0      314   (780, 4.3392133712768555)   780         4.339213\n",
      "0      314   (5580, 4.308488845825195)  5580         4.308489\n",
      "0      314   (6361, 4.305248737335205)  6361         4.305249\n",
      "0      314   (3660, 4.293968200683594)  3660         4.293968\n",
      "0      314   (9842, 4.291225910186768)  9842         4.291226\n",
      "0      314   (2244, 4.283778190612793)  2244         4.283778\n",
      "0      314   (4708, 4.283614158630371)  4708         4.283614\n",
      "0      314   (1029, 4.279642105102539)  1029         4.279642\n",
      "0      314    (2767, 4.27631950378418)  2767         4.276320\n"
     ]
    }
   ],
   "source": [
    "# id are recommended book id by ALS Model\n",
    "\n",
    "rateexplode = userrecommend.select('*').toPandas()\n",
    "finalrecommend = rateexplode.explode('recommendations')\n",
    "finalrecommend[['id','rate_prediction']] = pd.DataFrame(finalrecommend['recommendations'].tolist(), index=finalrecommend.index)\n",
    "print(finalrecommend)"
   ]
  },
  {
   "cell_type": "markdown",
   "id": "b2616104",
   "metadata": {},
   "source": [
    "Converting into dataframes"
   ]
  },
  {
   "cell_type": "code",
   "execution_count": 24,
   "id": "44d49f41",
   "metadata": {},
   "outputs": [
    {
     "name": "stdout",
     "output_type": "stream",
     "text": [
      "+-------+----+------------------+\n",
      "|user_id|  id|   rate_prediction|\n",
      "+-------+----+------------------+\n",
      "|    314|5207| 4.522234916687012|\n",
      "|    314|6590| 4.479695796966553|\n",
      "|    314|9566|4.4620537757873535|\n",
      "|    314|6920| 4.458487510681152|\n",
      "|    314|1788| 4.440154552459717|\n",
      "|    314|7254| 4.406615257263184|\n",
      "|    314| 862|4.4056901931762695|\n",
      "|    314|4483| 4.395471096038818|\n",
      "|    314|3628| 4.379123687744141|\n",
      "|    314|8978|4.3494648933410645|\n",
      "|    314|8109|4.3411173820495605|\n",
      "|    314| 780|4.3392133712768555|\n",
      "|    314|5580| 4.308488845825195|\n",
      "|    314|6361| 4.305248737335205|\n",
      "|    314|3660| 4.293968200683594|\n",
      "|    314|9842| 4.291225910186768|\n",
      "|    314|2244| 4.283778190612793|\n",
      "|    314|4708| 4.283614158630371|\n",
      "|    314|1029| 4.279642105102539|\n",
      "|    314|2767|  4.27631950378418|\n",
      "+-------+----+------------------+\n",
      "\n"
     ]
    }
   ],
   "source": [
    "# Converting the above ALS Prediction list into DataFrames\n",
    "\n",
    "book_output = spark.createDataFrame(finalrecommend)\n",
    "book_output = book_output.select('user_id','id','rate_prediction')\n",
    "book_output.show()"
   ]
  },
  {
   "cell_type": "markdown",
   "id": "01ccf782",
   "metadata": {},
   "source": [
    "# K Means Algorithm"
   ]
  },
  {
   "cell_type": "code",
   "execution_count": 25,
   "id": "9b714141",
   "metadata": {},
   "outputs": [
    {
     "name": "stdout",
     "output_type": "stream",
     "text": [
      "+---+-------+------------+-------+-----------+---------+----------------+--------------------+-------------------------+--------------------+--------------------+-------------+--------------+-------------+------------------+-----------------------+---------+---------+---------+---------+---------+--------------------+--------------------+\n",
      "| id|book_id|best_book_id|work_id|books_count|     isbn|          isbn13|             authors|original_publication_year|      original_title|               title|language_code|average_rating|ratings_count|work_ratings_count|work_text_reviews_count|ratings_1|ratings_2|ratings_3|ratings_4|ratings_5|           image_url|     small_image_url|\n",
      "+---+-------+------------+-------+-----------+---------+----------------+--------------------+-------------------------+--------------------+--------------------+-------------+--------------+-------------+------------------+-----------------------+---------+---------+---------+---------+---------+--------------------+--------------------+\n",
      "|  1|2767052|     2767052|2792775|        272|439023483|9.78043902348E12|     Suzanne Collins|                   2008.0|    The Hunger Games|The Hunger Games ...|          eng|          4.34|      4780653|           4942365|                 155254|  66715.0|   127936|   560092|  1481305|  2706317|https://images.gr...|https://images.gr...|\n",
      "|  2|      3|           3|4640799|        491|439554934|9.78043955493E12|J.K. Rowling, Mar...|                   1997.0|Harry Potter and ...|Harry Potter and ...|          eng|          4.44|      4602479|           4800065|                  75867|  75504.0|   101676|   455024|  1156318|  3011543|https://images.gr...|https://images.gr...|\n",
      "+---+-------+------------+-------+-----------+---------+----------------+--------------------+-------------------------+--------------------+--------------------+-------------+--------------+-------------+------------------+-----------------------+---------+---------+---------+---------+---------+--------------------+--------------------+\n",
      "only showing top 2 rows\n",
      "\n"
     ]
    }
   ],
   "source": [
    "#Reading and displaying books.csv for KMeans Algorithm\n",
    "\n",
    "bks_df = spark.read.csv('books.csv', header = True, inferSchema = True)\n",
    "bks_df.show(2)"
   ]
  },
  {
   "cell_type": "markdown",
   "id": "a1b39dcd",
   "metadata": {},
   "source": [
    "# Converting String value columns to integer value for vectorizations"
   ]
  },
  {
   "cell_type": "code",
   "execution_count": 26,
   "id": "d93dfdd7",
   "metadata": {},
   "outputs": [],
   "source": [
    "# Converting String value columns to integer value for vectorizations\n",
    "\n",
    "bks_df = bks_df.withColumn('isbn', bks_df['isbn'].cast(IntegerType()))\n",
    "bks_df = bks_df.withColumn('average_rating', bks_df['average_rating'].cast(IntegerType()))\n",
    "bks_df = bks_df.withColumn('ratings_count', bks_df['ratings_count'].cast(IntegerType()))\n",
    "bks_df = bks_df.withColumn('work_ratings_count', bks_df['work_ratings_count'].cast(IntegerType()))\n",
    "bks_df = bks_df.withColumn('work_text_reviews_count', bks_df['work_text_reviews_count'].cast(IntegerType()))"
   ]
  },
  {
   "cell_type": "markdown",
   "id": "6377f18c",
   "metadata": {},
   "source": [
    "# Imputer Function"
   ]
  },
  {
   "cell_type": "code",
   "execution_count": 27,
   "id": "8e58aa6f",
   "metadata": {},
   "outputs": [
    {
     "name": "stdout",
     "output_type": "stream",
     "text": [
      "+---+-------+------------+-------+-----------+---------+----------------+--------------------+-------------------------+--------------------+--------------------+-------------+--------------+-------------+------------------+-----------------------+---------+---------+---------+---------+---------+--------------------+--------------------+\n",
      "| id|book_id|best_book_id|work_id|books_count|     isbn|          isbn13|             authors|original_publication_year|      original_title|               title|language_code|average_rating|ratings_count|work_ratings_count|work_text_reviews_count|ratings_1|ratings_2|ratings_3|ratings_4|ratings_5|           image_url|     small_image_url|\n",
      "+---+-------+------------+-------+-----------+---------+----------------+--------------------+-------------------------+--------------------+--------------------+-------------+--------------+-------------+------------------+-----------------------+---------+---------+---------+---------+---------+--------------------+--------------------+\n",
      "|  1|2767052|     2767052|2792775|        272|439023483|9.78043902348E12|     Suzanne Collins|                   2008.0|    The Hunger Games|The Hunger Games ...|          eng|             4|      4780653|           4942365|                 155254|  66715.0|   127936|   560092|  1481305|  2706317|https://images.gr...|https://images.gr...|\n",
      "|  2|      3|           3|4640799|        491|439554934|9.78043955493E12|J.K. Rowling, Mar...|                   1997.0|Harry Potter and ...|Harry Potter and ...|          eng|             4|      4602479|           4800065|                  75867|  75504.0|   101676|   455024|  1156318|  3011543|https://images.gr...|https://images.gr...|\n",
      "|  3|  41865|       41865|3212258|        226|316015849|9.78031601584E12|     Stephenie Meyer|                   2005.0|            Twilight|Twilight (Twiligh...|        en-US|             3|      3866839|           3916824|                  95009| 456191.0|   436802|   793319|   875073|  1355439|https://images.gr...|https://images.gr...|\n",
      "|  4|   2657|        2657|3275794|        487| 61120081|9.78006112008E12|          Harper Lee|                   1960.0|To Kill a Mocking...|To Kill a Mocking...|          eng|             4|      3198671|           3340896|                  72586|  60427.0|   117415|   446835|  1001952|  1714267|https://images.gr...|https://images.gr...|\n",
      "|  5|   4671|        4671| 245494|       1356|743273567|9.78074327356E12| F. Scott Fitzgerald|                   1925.0|    The Great Gatsby|    The Great Gatsby|          eng|             3|      2683664|           2773745|                  51992|  86236.0|   197621|   606158|   936012|   947718|https://images.gr...|https://images.gr...|\n",
      "+---+-------+------------+-------+-----------+---------+----------------+--------------------+-------------------------+--------------------+--------------------+-------------+--------------+-------------+------------------+-----------------------+---------+---------+---------+---------+---------+--------------------+--------------------+\n",
      "only showing top 5 rows\n",
      "\n"
     ]
    }
   ],
   "source": [
    "# Using Imputer function to fill in missing values for all the rows with mean, median or mode value\n",
    "\n",
    "imputer = Imputer(inputCols = ['id','books_count','isbn','original_publication_year','average_rating','ratings_count',\n",
    "                               'work_ratings_count','work_text_reviews_count','ratings_1','ratings_2','ratings_3','ratings_4',\n",
    "                              'ratings_5'], outputCols = ['id','books_count','isbn','original_publication_year','average_rating','ratings_count',\n",
    "                               'work_ratings_count','work_text_reviews_count','ratings_1','ratings_2','ratings_3','ratings_4',\n",
    "                              'ratings_5'])\n",
    "model1 = imputer.fit(bks_df)\n",
    "bks_df = model1.transform(bks_df)\n",
    "bks_df = bks_df.na.drop()\n",
    "bks_df.show(5)"
   ]
  },
  {
   "cell_type": "markdown",
   "id": "7763ca47",
   "metadata": {},
   "source": [
    "# Using VectorAssembler"
   ]
  },
  {
   "cell_type": "code",
   "execution_count": 28,
   "id": "70af1adf",
   "metadata": {},
   "outputs": [
    {
     "name": "stdout",
     "output_type": "stream",
     "text": [
      "root\n",
      " |-- id: integer (nullable = true)\n",
      " |-- book_id: integer (nullable = true)\n",
      " |-- best_book_id: integer (nullable = true)\n",
      " |-- work_id: integer (nullable = true)\n",
      " |-- books_count: integer (nullable = true)\n",
      " |-- isbn: integer (nullable = true)\n",
      " |-- isbn13: double (nullable = true)\n",
      " |-- authors: string (nullable = true)\n",
      " |-- original_publication_year: double (nullable = true)\n",
      " |-- original_title: string (nullable = true)\n",
      " |-- title: string (nullable = true)\n",
      " |-- language_code: string (nullable = true)\n",
      " |-- average_rating: integer (nullable = true)\n",
      " |-- ratings_count: integer (nullable = true)\n",
      " |-- work_ratings_count: integer (nullable = true)\n",
      " |-- work_text_reviews_count: integer (nullable = true)\n",
      " |-- ratings_1: double (nullable = true)\n",
      " |-- ratings_2: integer (nullable = true)\n",
      " |-- ratings_3: integer (nullable = true)\n",
      " |-- ratings_4: integer (nullable = true)\n",
      " |-- ratings_5: integer (nullable = true)\n",
      " |-- image_url: string (nullable = true)\n",
      " |-- small_image_url: string (nullable = true)\n",
      " |-- features: vector (nullable = true)\n",
      "\n"
     ]
    }
   ],
   "source": [
    "# Creating features column with all the features required to make clusters\n",
    "\n",
    "assemble1 = VectorAssembler(inputCols = [\n",
    "    'books_count',\n",
    "    'isbn',\n",
    "    'original_publication_year',\n",
    "    'average_rating',\n",
    "    'ratings_count',\n",
    "    'work_ratings_count',\n",
    "    'work_text_reviews_count',\n",
    "    'ratings_1',\n",
    "    'ratings_2',\n",
    "    'ratings_3',\n",
    "    'ratings_4',\n",
    "    'ratings_5'\n",
    "], outputCol = 'features')\n",
    "assembled_data1 = assemble1.transform(bks_df)\n",
    "assembled_data1.printSchema()"
   ]
  },
  {
   "cell_type": "markdown",
   "id": "517e8799",
   "metadata": {},
   "source": [
    "# Creating scalar feature column"
   ]
  },
  {
   "cell_type": "code",
   "execution_count": 29,
   "id": "1d5a52b2",
   "metadata": {},
   "outputs": [
    {
     "name": "stdout",
     "output_type": "stream",
     "text": [
      "+---+-------+------------+-------+-----------+---------+----------------+--------------------+-------------------------+--------------------+--------------------+-------------+--------------+-------------+------------------+-----------------------+---------+---------+---------+---------+---------+--------------------+--------------------+--------------------+--------------------+\n",
      "| id|book_id|best_book_id|work_id|books_count|     isbn|          isbn13|             authors|original_publication_year|      original_title|               title|language_code|average_rating|ratings_count|work_ratings_count|work_text_reviews_count|ratings_1|ratings_2|ratings_3|ratings_4|ratings_5|           image_url|     small_image_url|            features|        standardized|\n",
      "+---+-------+------------+-------+-----------+---------+----------------+--------------------+-------------------------+--------------------+--------------------+-------------+--------------+-------------+------------------+-----------------------+---------+---------+---------+---------+---------+--------------------+--------------------+--------------------+--------------------+\n",
      "|  1|2767052|     2767052|2792775|        272|439023483|9.78043902348E12|     Suzanne Collins|                   2008.0|    The Hunger Games|The Hunger Games ...|          eng|             4|      4780653|           4942365|                 155254|  66715.0|   127936|   560092|  1481305|  2706317|https://images.gr...|https://images.gr...|[272.0,4.39023483...|[1.51850524564723...|\n",
      "|  2|      3|           3|4640799|        491|439554934|9.78043955493E12|J.K. Rowling, Mar...|                   1997.0|Harry Potter and ...|Harry Potter and ...|          eng|             4|      4602479|           4800065|                  75867|  75504.0|   101676|   455024|  1156318|  3011543|https://images.gr...|https://images.gr...|[491.0,4.39554934...|[2.74112527798821...|\n",
      "|  3|  41865|       41865|3212258|        226|316015849|9.78031601584E12|     Stephenie Meyer|                   2005.0|            Twilight|Twilight (Twiligh...|        en-US|             3|      3866839|           3916824|                  95009| 456191.0|   436802|   793319|   875073|  1355439|https://images.gr...|https://images.gr...|[226.0,3.16015849...|[1.26169921145689...|\n",
      "|  4|   2657|        2657|3275794|        487| 61120081|9.78006112008E12|          Harper Lee|                   1960.0|To Kill a Mocking...|To Kill a Mocking...|          eng|             4|      3198671|           3340896|                  72586|  60427.0|   117415|   446835|  1001952|  1714267|https://images.gr...|https://images.gr...|[487.0,6.1120081E...|[2.71879431849340...|\n",
      "|  5|   4671|        4671| 245494|       1356|743273567|9.78074327356E12| F. Scott Fitzgerald|                   1925.0|    The Great Gatsby|    The Great Gatsby|          eng|             3|      2683664|           2773745|                  51992|  86236.0|   197621|   606158|   936012|   947718|https://images.gr...|https://images.gr...|[1356.0,7.4327356...|[7.57019526874138...|\n",
      "+---+-------+------------+-------+-----------+---------+----------------+--------------------+-------------------------+--------------------+--------------------+-------------+--------------+-------------+------------------+-----------------------+---------+---------+---------+---------+---------+--------------------+--------------------+--------------------+--------------------+\n",
      "only showing top 5 rows\n",
      "\n"
     ]
    }
   ],
   "source": [
    "# Creating scalar feature column of the above vector column\n",
    "\n",
    "scale = StandardScaler(inputCol='features', outputCol='standardized')\n",
    "bks_scale = scale.fit(assembled_data1)\n",
    "data_scale_output = bks_scale.transform(assembled_data1)\n",
    "data_scale_output.show(5)"
   ]
  },
  {
   "cell_type": "markdown",
   "id": "3bd25331",
   "metadata": {},
   "source": [
    "# Evaluating KMeans Model and finding the Silhouette Value"
   ]
  },
  {
   "cell_type": "code",
   "execution_count": 30,
   "id": "573ef590",
   "metadata": {},
   "outputs": [
    {
     "name": "stdout",
     "output_type": "stream",
     "text": [
      "Silhouette Score: 0.11803074658832566\n",
      "Silhouette Score: 0.8635095366463877\n",
      "Silhouette Score: 0.8815924534834311\n",
      "Silhouette Score: 0.8592574174024322\n",
      "Silhouette Score: 0.4764971586768468\n",
      "Silhouette Score: 0.5292255395002855\n",
      "Silhouette Score: 0.4469370371865887\n",
      "Silhouette Score: 0.6426357376428591\n",
      "Silhouette Score: 0.674586042279129\n",
      "Silhouette Score: 0.6772179945418042\n",
      "Silhouette Score: 0.6983765276423608\n",
      "Silhouette Score: 0.5131231726273495\n",
      "Silhouette Score: 0.6828488695160545\n"
     ]
    }
   ],
   "source": [
    "# Evaluating KMeans Model and finding the Silhouette Value for cluster 2 to 15\n",
    "\n",
    "silhouette_score = []\n",
    "evaluator = ClusteringEvaluator(predictionCol = 'prediction', featuresCol = 'standardized', metricName = 'silhouette', distanceMeasure='squaredEuclidean')\n",
    "\n",
    "for i in range(2,15):\n",
    "    KMeans_algo = KMeans(featuresCol='standardized', k=i)\n",
    "    KMeans_fit = KMeans_algo.fit(data_scale_output)\n",
    "    output = KMeans_fit.transform(data_scale_output)\n",
    "    score = evaluator.evaluate(output)\n",
    "    silhouette_score.append(score)\n",
    "    print('Silhouette Score:', score)"
   ]
  },
  {
   "cell_type": "markdown",
   "id": "013a8d2a",
   "metadata": {},
   "source": [
    "# Plotting the Silhouette Value"
   ]
  },
  {
   "cell_type": "code",
   "execution_count": 31,
   "id": "77392cb9",
   "metadata": {},
   "outputs": [
    {
     "data": {
      "text/plain": [
       "Text(0, 0.5, 'score')"
      ]
     },
     "execution_count": 31,
     "metadata": {},
     "output_type": "execute_result"
    },
    {
     "data": {
      "image/png": "[encoded data removed]",
      "text/plain": [
       "<Figure size 576x432 with 1 Axes>"
      ]
     },
     "metadata": {
      "needs_background": "light"
     },
     "output_type": "display_data"
    }
   ],
   "source": [
    "# Plotting the Silhouette Value for finding the best cluster k\n",
    "\n",
    "fig, ax = plt.subplots(1,1, figsize =(8,6))\n",
    "ax.plot(range(2,15),silhouette_score)\n",
    "ax.set_xlabel('k (number of clusters)')\n",
    "ax.set_ylabel('score')"
   ]
  },
  {
   "cell_type": "markdown",
   "id": "a7d24024",
   "metadata": {},
   "source": [
    "# Finding the Centroid Value of all the clusters"
   ]
  },
  {
   "cell_type": "code",
   "execution_count": 34,
   "id": "0151bbbf",
   "metadata": {},
   "outputs": [
    {
     "name": "stdout",
     "output_type": "stream",
     "text": [
      "Cluster Centres:\n",
      "[7.98330192e+01 6.90713143e+08 1.98027855e+03 3.55032039e+00\n",
      " 5.38999171e+04 5.94385028e+04 2.71159065e+03 1.26498235e+03\n",
      " 3.00245722e+03 1.12459129e+04 1.98466732e+04 2.40607173e+04]\n",
      "[1.26287938e+02 8.63482760e+07 1.94614786e+03 3.44980545e+00\n",
      " 6.80096988e+04 7.48577774e+04 3.27594553e+03 1.83320700e+03\n",
      " 4.36500233e+03 1.53953518e+04 2.51720965e+04 2.80921198e+04]\n",
      "[7.72815272e+01 3.87870511e+08 1.99036134e+03 3.49865021e+00\n",
      " 7.08911203e+04 7.79330879e+04 3.55135326e+03 1.78387312e+03\n",
      " 4.01357694e+03 1.48778338e+04 2.61300231e+04 3.11277809e+04]\n",
      "[8.49312169e+01 1.87008981e+09 1.98701058e+03 3.54497354e+00\n",
      " 3.88432222e+04 4.53963280e+04 2.37377778e+03 1.06204762e+03\n",
      " 2.48775661e+03 9.11477778e+03 1.56521852e+04 1.70795608e+04]\n",
      "[5.35462520e+01 1.47267913e+09 1.99548005e+03 3.57097289e+00\n",
      " 4.98188317e+04 5.54939769e+04 3.63077831e+03 1.28493222e+03\n",
      " 2.81215152e+03 1.01477775e+04 1.84102504e+04 2.28388652e+04]\n"
     ]
    }
   ],
   "source": [
    "# Finding the Centroid Value of all the clusters\n",
    "kmeans = KMeans().setK(5).setSeed(1)\n",
    "kmodel = kmeans.fit(data_scale_output)\n",
    "pred = kmodel.transform(data_scale_output)\n",
    "eva = ClusteringEvaluator()\n",
    "print('Cluster Centres:')\n",
    "ctr=[]\n",
    "centres = kmodel.clusterCenters()\n",
    "for cen in centres:\n",
    "    ctr.append(cen)\n",
    "    print(cen)"
   ]
  },
  {
   "cell_type": "markdown",
   "id": "70c0ab88",
   "metadata": {},
   "source": [
    "# Finding Silhouette Score for Bisecting KMeans ALgorithm"
   ]
  },
  {
   "cell_type": "code",
   "execution_count": 33,
   "id": "8296cd13",
   "metadata": {},
   "outputs": [
    {
     "name": "stdout",
     "output_type": "stream",
     "text": [
      "Silhouette Score: 0.9738611248616339\n",
      "Silhouette Score: 0.48744856258705593\n",
      "Silhouette Score: 0.49519635242141286\n",
      "Silhouette Score: 0.42093811750445814\n",
      "Silhouette Score: 0.5826892373119313\n",
      "Silhouette Score: 0.5815500171588199\n",
      "Silhouette Score: 0.5825769137053829\n",
      "Silhouette Score: 0.4033741525738341\n",
      "Silhouette Score: 0.37125947591554115\n",
      "Silhouette Score: 0.40338064677699104\n",
      "Silhouette Score: 0.41910025961561925\n",
      "Silhouette Score: 0.40568879937786406\n",
      "Silhouette Score: 0.4065804547272518\n"
     ]
    }
   ],
   "source": [
    "# Finding Silhouette Score for Bisecting KMeans ALgorithm\n",
    "\n",
    "from pyspark.ml.clustering import BisectingKMeans\n",
    "\n",
    "bisecting_silhouette_score = []\n",
    "evaluator1 = ClusteringEvaluator(predictionCol = 'prediction', featuresCol = 'standardized', metricName = 'silhouette', distanceMeasure='squaredEuclidean')\n",
    "\n",
    "for i in range(2,15):\n",
    "    KMeans_algo1 = BisectingKMeans(featuresCol='standardized', k=i)\n",
    "    KMeans_fit1 = KMeans_algo1.fit(data_scale_output)\n",
    "    output1 = KMeans_fit1.transform(data_scale_output)\n",
    "    score1 = evaluator1.evaluate(output1)\n",
    "    bisecting_silhouette_score.append(score1)\n",
    "    print('Silhouette Score:', score1)"
   ]
  },
  {
   "cell_type": "code",
   "execution_count": 37,
   "id": "3a872a37",
   "metadata": {},
   "outputs": [
    {
     "data": {
      "text/plain": [
       "Text(0, 0.5, 'score')"
      ]
     },
     "execution_count": 37,
     "metadata": {},
     "output_type": "execute_result"
    },
    {
     "data": {
      "image/png": "[encoded data removed]",
      "text/plain": [
       "<Figure size 576x432 with 1 Axes>"
      ]
     },
     "metadata": {
      "needs_background": "light"
     },
     "output_type": "display_data"
    }
   ],
   "source": [
    "fig, ax = plt.subplots(1,1, figsize =(8,6))\n",
    "ax.plot(range(2,15),bisecting_silhouette_score)\n",
    "ax.set_xlabel('k (number of clusters)')\n",
    "ax.set_ylabel('score')"
   ]
  },
  {
   "cell_type": "code",
   "execution_count": 38,
   "id": "ff6f3e88",
   "metadata": {},
   "outputs": [
    {
     "name": "stdout",
     "output_type": "stream",
     "text": [
      "Cluster Centres:\n",
      "[5.35462520e+01 1.47267913e+09 1.99548005e+03 3.57097289e+00\n",
      " 4.98188317e+04 5.54939769e+04 3.63077831e+03 1.28493222e+03\n",
      " 2.81215152e+03 1.01477775e+04 1.84102504e+04 2.28388652e+04]\n",
      "[7.98330192e+01 6.90713143e+08 1.98027855e+03 3.55032039e+00\n",
      " 5.38999171e+04 5.94385028e+04 2.71159065e+03 1.26498235e+03\n",
      " 3.00245722e+03 1.12459129e+04 1.98466732e+04 2.40607173e+04]\n",
      "[7.73114374e+01 3.88153724e+08 1.99033499e+03 3.49922720e+00\n",
      " 7.08905039e+04 7.79363779e+04 3.55204675e+03 1.78399536e+03\n",
      " 4.01392736e+03 1.48807253e+04 2.61410363e+04 3.11166936e+04]\n",
      "[8.49312169e+01 1.87008981e+09 1.98701058e+03 3.54497354e+00\n",
      " 3.88432222e+04 4.53963280e+04 2.37377778e+03 1.06204762e+03\n",
      " 2.48775661e+03 9.11477778e+03 1.56521852e+04 1.70795608e+04]\n",
      "[6.01186441e+01 5.74830487e+07 1.99625763e+03 3.47344633e+00\n",
      " 5.94971966e+04 6.54640542e+04 3.23748475e+03 1.41423277e+03\n",
      " 3.48859661e+03 1.28916927e+04 2.19785932e+04 2.56909390e+04]\n",
      "[2.70083951e+02 1.51336873e+08 1.83736296e+03 3.39506173e+00\n",
      " 8.66506049e+04 9.54017457e+04 3.35895802e+03 2.74735309e+03\n",
      " 6.27353333e+03 2.08414444e+04 3.20919432e+04 3.34474716e+04]\n"
     ]
    }
   ],
   "source": [
    "kmeans1 = KMeans().setK(6).setSeed(1)\n",
    "model111 = kmeans1.fit(data_scale_output)\n",
    "pred1 = model111.transform(data_scale_output)\n",
    "eva1 = ClusteringEvaluator()\n",
    "print('Cluster Centres:')\n",
    "ctr1=[]\n",
    "centres1 = model111.clusterCenters()\n",
    "for cen1 in centres1:\n",
    "    ctr1.append(cen1)\n",
    "    print(cen1)"
   ]
  },
  {
   "cell_type": "markdown",
   "id": "2a41c416",
   "metadata": {},
   "source": [
    "# Finding cluster position for each book"
   ]
  },
  {
   "cell_type": "code",
   "execution_count": 39,
   "id": "d2b3ee41",
   "metadata": {},
   "outputs": [
    {
     "name": "stdout",
     "output_type": "stream",
     "text": [
      "+---+--------+------------+--------+-----------+----------+----------------+--------------------+-------------------------+--------------------+--------------------+-------------+--------------+-------------+------------------+-----------------------+---------+---------+---------+---------+---------+--------------------+--------------------+--------------------+--------------------+----------+\n",
      "| id| book_id|best_book_id| work_id|books_count|      isbn|          isbn13|             authors|original_publication_year|      original_title|               title|language_code|average_rating|ratings_count|work_ratings_count|work_text_reviews_count|ratings_1|ratings_2|ratings_3|ratings_4|ratings_5|           image_url|     small_image_url|            features|        standardized|prediction|\n",
      "+---+--------+------------+--------+-----------+----------+----------------+--------------------+-------------------------+--------------------+--------------------+-------------+--------------+-------------+------------------+-----------------------+---------+---------+---------+---------+---------+--------------------+--------------------+--------------------+--------------------+----------+\n",
      "|  1| 2767052|     2767052| 2792775|        272| 439023483|9.78043902348E12|     Suzanne Collins|                   2008.0|    The Hunger Games|The Hunger Games ...|          eng|             4|      4780653|           4942365|                 155254|  66715.0|   127936|   560092|  1481305|  2706317|https://images.gr...|https://images.gr...|[272.0,4.39023483...|[1.51850524564723...|         2|\n",
      "|  2|       3|           3| 4640799|        491| 439554934|9.78043955493E12|J.K. Rowling, Mar...|                   1997.0|Harry Potter and ...|Harry Potter and ...|          eng|             4|      4602479|           4800065|                  75867|  75504.0|   101676|   455024|  1156318|  3011543|https://images.gr...|https://images.gr...|[491.0,4.39554934...|[2.74112527798821...|         2|\n",
      "|  3|   41865|       41865| 3212258|        226| 316015849|9.78031601584E12|     Stephenie Meyer|                   2005.0|            Twilight|Twilight (Twiligh...|        en-US|             3|      3866839|           3916824|                  95009| 456191.0|   436802|   793319|   875073|  1355439|https://images.gr...|https://images.gr...|[226.0,3.16015849...|[1.26169921145689...|         2|\n",
      "|  4|    2657|        2657| 3275794|        487|  61120081|9.78006112008E12|          Harper Lee|                   1960.0|To Kill a Mocking...|To Kill a Mocking...|          eng|             4|      3198671|           3340896|                  72586|  60427.0|   117415|   446835|  1001952|  1714267|https://images.gr...|https://images.gr...|[487.0,6.1120081E...|[2.71879431849340...|         1|\n",
      "|  5|    4671|        4671|  245494|       1356| 743273567|9.78074327356E12| F. Scott Fitzgerald|                   1925.0|    The Great Gatsby|    The Great Gatsby|          eng|             3|      2683664|           2773745|                  51992|  86236.0|   197621|   606158|   936012|   947718|https://images.gr...|https://images.gr...|[1356.0,7.4327356...|[7.57019526874138...|         0|\n",
      "|  6|11870085|    11870085|16827462|        226| 525478817|9.78052547881E12|          John Green|                   2012.0|The Fault in Our ...|The Fault in Our ...|          eng|             4|      2346404|           2478609|                 140739|  47994.0|    92723|   327550|   698471|  1311871|https://images.gr...|https://images.gr...|[226.0,5.25478817...|[1.26169921145689...|         2|\n",
      "|  7|    5907|        5907| 1540236|        969| 618260307| 9.7806182603E12|      J.R.R. Tolkien|                   1937.0|The Hobbit or The...|          The Hobbit|        en-US|             4|      2071616|           2196809|                  37653|  46023.0|    76784|   288649|   665635|  1119718|https://images.gr...|https://images.gr...|[969.0,6.18260307...|[5.40967493761828...|         0|\n",
      "|  8|    5107|        5107| 3036731|        360| 316769177|9.78031676917E12|       J.D. Salinger|                   1951.0|The Catcher in th...|The Catcher in th...|          eng|             3|      2044241|           2120637|                  44920| 109383.0|   185520|   455042|   661516|   709176|https://images.gr...|https://images.gr...|[360.0,3.16769177...|[2.00978635453311...|         2|\n",
      "|  9|     960|         960| 3338963|        311|1416524797|9.78141652479E12|           Dan Brown|                   2000.0|    Angels & Demons |Angels & Demons  ...|        en-CA|             3|      2001311|           2078754|                  25112|  77841.0|   145740|   458429|   716569|   680175|https://images.gr...|https://images.gr...|[311.0,1.41652479...|[1.73623210072165...|         4|\n",
      "| 10|    1885|        1885| 3060926|       3455| 679783261|9.78067978327E12|         Jane Austen|                   1813.0| Pride and Prejudice| Pride and Prejudice|          eng|             4|      2035490|           2191465|                  49152|  54700.0|    86485|   284852|   609755|  1155673|https://images.gr...|https://images.gr...|[3455.0,6.7978326...|[19.2883662636441...|         0|\n",
      "| 11|   77203|       77203| 3295919|        283|1594480001|   9.78159448E12|     Khaled Hosseini|                   2003.0|    The Kite Runner |     The Kite Runner|          eng|             4|      1813044|           1878095|                  59730|  34288.0|    59980|   226062|   628174|   929591|https://images.gr...|https://images.gr...|[283.0,1.59448000...|[1.57991538425797...|         4|\n",
      "| 12|13335037|    13335037|13155899|        210|  62024035|9.78006202404E12|       Veronica Roth|                   2011.0|           Divergent|Divergent (Diverg...|          eng|             4|      1903563|           2216814|                 101023|  36315.0|    82870|   310297|   673028|  1114304|https://images.gr...|https://images.gr...|[210.0,6.2024035E...|[1.17237537347764...|         1|\n",
      "| 13|    5470|        5470|  153313|        995| 451524934|9.78045152494E12|George Orwell, Er...|                   1949.0|Nineteen Eighty-Four|                1984|          eng|             4|      1956832|           2053394|                  45518|  41845.0|    86425|   324874|   692021|   908229|https://images.gr...|https://images.gr...|[995.0,4.51524934...|[5.55482617433457...|         2|\n",
      "| 14|    7613|        7613| 2207778|        896| 452284244|9.78045228424E12|       George Orwell|                   1945.0|Animal Farm: A Fa...|         Animal Farm|          eng|             3|      1881700|           1982987|                  35472|  66854.0|   135147|   433432|   698642|   648912|https://images.gr...|https://images.gr...|[896.0,4.52284244...|[5.00213492683796...|         2|\n",
      "| 15|   48855|       48855| 3532896|        710| 553296981|9.78055329698E12|Anne Frank, Elean...|                   1947.0|Het Achterhuis: D...|The Diary of a Yo...|          eng|             4|      1972666|           2024493|                  20825|  45225.0|    91270|   355756|   656870|   875372|https://images.gr...|https://images.gr...|[710.0,5.53296981...|[3.96374531032919...|         0|\n",
      "| 16| 2429135|     2429135| 1708725|        274| 307269752|9.78030726975E12|Stieg Larsson, Re...|                   2005.0|Män som hatar kvi...|The Girl with the...|          eng|             4|      1808403|           1929834|                  62543|  54835.0|    86051|   285413|   667485|   836050|https://images.gr...|https://images.gr...|[274.0,3.07269752...|[1.52967072539464...|         2|\n",
      "| 17| 6148028|     6148028| 6171458|        201| 439023491| 9.7804390235E12|     Suzanne Collins|                   2009.0|       Catching Fire|Catching Fire (Th...|          eng|             4|      1831039|           1988079|                  88538|  10492.0|    48030|   262010|   687238|   980309|https://images.gr...|https://images.gr...|[201.0,4.39023491...|[1.12213071461432...|         2|\n",
      "| 18|       5|           5| 2402163|        376| 653969456|9.78043965548E12|J.K. Rowling, Mar...|                   1999.0|Harry Potter and ...|Harry Potter and ...|          eng|             4|      1832823|           1969375|                  36099|   6716.0|    20413|   166129|   509447|  1266670|https://images.gr...|https://images.gr...|[376.0,6.53969456...|[2.09911019251236...|         0|\n",
      "| 19|      34|          34| 3204327|        566| 618346252|9.78061834626E12|      J.R.R. Tolkien|                   1954.0| The Fellowship o...|The Fellowship of...|          eng|             4|      1766803|           1832541|                  15333|  38031.0|    55862|   202332|   493922|  1042394|https://images.gr...|https://images.gr...|[566.0,6.18346252...|[3.15983076851594...|         0|\n",
      "| 20| 7260188|     7260188| 8812783|        239| 439023513|9.78043902351E12|     Suzanne Collins|                   2010.0|          Mockingjay|Mockingjay (The H...|          eng|             4|      1719760|           1870748|                  96274|  30144.0|   110498|   373060|   618271|   738775|https://images.gr...|https://images.gr...|[239.0,4.39023513...|[1.33427482981503...|         2|\n",
      "| 21|       2|           2| 2809203|        307| 439358078|9.78043935807E12|J.K. Rowling, Mar...|                   2003.0|Harry Potter and ...|Harry Potter and ...|          eng|             4|      1735368|           1840548|                  28685|   9528.0|    31577|   180210|   494427|  1124806|https://images.gr...|https://images.gr...|[307.0,4.39358078...|[1.71390114122684...|         2|\n",
      "| 22|12232938|    12232938| 1145090|        183| 316166685|9.78031616668E12|        Alice Sebold|                   2002.0|    The Lovely Bones|    The Lovely Bones|          eng|             3|      1605173|           1661562|                  36642|  62777.0|   131188|   404699|   583575|   479323|https://images.gr...|https://images.gr...|[183.0,3.16166685...|[1.02164139688766...|         2|\n",
      "| 23|   15881|       15881| 6231171|        398| 439064864|9.78043906487E12|J.K. Rowling, Mar...|                   1998.0|Harry Potter and ...|Harry Potter and ...|          eng|             4|      1779331|           1906199|                  34172|   8253.0|    42251|   242345|   548266|  1065084|https://images.gr...|https://images.gr...|[398.0,4.39064864...|[2.22193046973382...|         2|\n",
      "| 24|       6|           6| 3046572|        332| 439139600| 9.7804391396E12|J.K. Rowling, Mar...|                   2000.0|Harry Potter and ...|Harry Potter and ...|          eng|             4|      1753043|           1868642|                  31084|   6676.0|    20210|   151785|   494926|  1195045|https://images.gr...|https://images.gr...|[332.0,4.391396E8...|[1.85346963806942...|         2|\n",
      "| 25|  136251|      136251| 2963218|        263| 545010225|9.78054501022E12|J.K. Rowling, Mar...|                   2007.0|Harry Potter and ...|Harry Potter and ...|          eng|             4|      1746574|           1847395|                  51942|   9363.0|    22245|   113646|   383914|  1318227|https://images.gr...|https://images.gr...|[263.0,5.45010225...|[1.46826058678391...|         0|\n",
      "| 26|     968|         968| 2982101|        350| 307277674|9.78030727767E12|           Dan Brown|                   2003.0|   The Da Vinci Code|The Da Vinci Code...|          eng|             3|      1447148|           1557292|                  41560|  71345.0|   126493|   340790|   539277|   479387|https://images.gr...|https://images.gr...|[350.0,3.07277674...|[1.95395895579608...|         2|\n",
      "| 27|       1|           1|41335427|        275| 439785960|9.78043978597E12|J.K. Rowling, Mar...|                   2005.0|Harry Potter and ...|Harry Potter and ...|          eng|             4|      1678823|           1785676|                  27520|   7308.0|    21516|   136333|   459028|  1161491|https://images.gr...|https://images.gr...|[275.0,4.3978596E...|[1.53525346526834...|         2|\n",
      "| 28|    7624|        7624| 2766512|        458| 140283331|9.78014028333E12|     William Golding|                   1954.0|  Lord of the Flies |   Lord of the Flies|          eng|             3|      1605019|           1671484|                  26886|  92779.0|   160295|   425648|   564916|   427846|https://images.gr...|https://images.gr...|[458.0,1.40283331...|[2.55689486215601...|         1|\n",
      "| 29|   18135|       18135| 3349450|       1937| 743477111|9.78074347712E12|William Shakespea...|                   1595.0|An Excellent conc...|    Romeo and Juliet|          eng|             3|      1628519|           1672889|                  14778|  57980.0|   153179|   452673|   519822|   489235|https://images.gr...|https://images.gr...|[1937.0,7.4347711...|[10.8137671353628...|         0|\n",
      "| 30| 8442457|    19288043|13306276|        196| 297859382|9.78029785938E12|       Gillian Flynn|                   2012.0|           Gone Girl|           Gone Girl|          eng|             4|       512475|           1626519|                 121614|  38874.0|    80807|   280331|   616031|   610476|https://images.gr...|https://images.gr...|[196.0,2.97859382...|[1.09421701524580...|         2|\n",
      "| 31| 4667024|     4667024| 4717423|        183| 399155341|9.78039915534E12|    Kathryn Stockett|                   2009.0|            The Help|            The Help|          eng|             4|      1531753|           1603545|                  78204|  10235.0|    25117|   134887|   490754|   942552|https://images.gr...|https://images.gr...|[183.0,3.99155341...|[1.02164139688766...|         2|\n",
      "| 32|     890|         890|   40283|        373| 142000671|9.78014200067E12|      John Steinbeck|                   1937.0|    Of Mice and Men |     Of Mice and Men|          eng|             3|      1467496|           1518741|                  24642|  46630.0|   110856|   355169|   532291|   473795|https://images.gr...|https://images.gr...|[373.0,1.42000671...|[2.08236197289125...|         1|\n",
      "| 33|     930|         929| 1558965|        220| 739326228|9.78073932622E12|       Arthur Golden|                   1997.0| Memoirs of a Geisha| Memoirs of a Geisha|          eng|             4|      1300209|           1418172|                  25605|  23500.0|    59033|   258700|   517157|   559782|https://s.gr-asse...|https://s.gr-asse...|[220.0,7.39326228...|[1.22820277221467...|         0|\n",
      "| 34|10818853|    10818853|15732562|        169|1612130291|9.78161213029E12|          E.L. James|                   2011.0|Fifty Shades of Grey|Fifty Shades of G...|          eng|             3|      1338493|           1436818|                  75437| 165455.0|   152293|   252185|   294976|   571909|https://images.gr...|https://images.gr...|[169.0,1.61213029...|[0.94348303865582...|         4|\n",
      "| 35|     865|         865| 4835472|        458|  61122416|9.78006112242E12|Paulo Coelho, Ala...|                   1988.0|        O Alquimista|       The Alchemist|          eng|             3|      1299566|           1403995|                  55781|  74846.0|   123614|   289143|   412180|   504212|https://images.gr...|https://images.gr...|[458.0,6.1122416E...|[2.55689486215601...|         1|\n",
      "| 36|    3636|        3636| 2543234|        192| 385732554|9.78038573255E12|          Lois Lowry|                   1993.0|           The Giver|The Giver (The Gi...|          eng|             4|      1296825|           1345445|                  54084|  26497.0|    59652|   225326|   448691|   585279|https://images.gr...|https://images.gr...|[192.0,3.85732554...|[1.07188605575099...|         2|\n",
      "| 37|  100915|      100915| 4790821|        474|  60764899|9.78006076489E12|          C.S. Lewis|                   1950.0|The Lion, the Wit...|The Lion, the Wit...|          eng|             4|      1531800|           1584884|                  15186|  19309.0|    55542|   262038|   513366|   734629|https://images.gr...|https://images.gr...|[474.0,6.0764899E...|[2.64621870013526...|         1|\n",
      "| 38|   14050|    18619684| 2153746|        167| 965818675|9.78096581867E12|  Audrey Niffenegger|                   2003.0|The Time Traveler...|The Time Traveler...|          eng|             3|       746287|           1308667|                  43382|  44339.0|    85429|   257805|   427210|   493884|https://images.gr...|https://images.gr...|[167.0,9.65818675...|[0.93231755890841...|         0|\n",
      "| 39|   13496|       13496| 1466917|        101| 553588486|9.78055358848E12|  George R.R. Martin|                   1996.0|   A Game of Thrones|A Game of Thrones...|          eng|             4|      1319204|           1442220|                  46205|  19988.0|    28983|   114092|   404583|   874574|https://images.gr...|https://images.gr...|[101.0,5.53588486...|[0.56385672724401...|         0|\n",
      "| 40|   19501|       19501| 3352398|        185| 143038419|9.78014303841E12|   Elizabeth Gilbert|                   2006.0|Eat, pray, love: ...|     Eat, Pray, Love|          eng|             3|      1181647|           1206597|                  49714| 100373.0|   149549|   310212|   332191|   314272|https://images.gr...|https://images.gr...|[185.0,1.43038419...|[1.03280687663507...|         1|\n",
      "| 41|   28187|       28187| 3346751|        159| 786838655|9.78078683865E12|        Rick Riordan|                   2005.0| The Lightning Thief|The Lightning Thi...|          eng|             4|      1366265|           1411114|                  46006|  18303.0|    48294|   219638|   435514|   689365|https://images.gr...|https://images.gr...|[159.0,7.86838655...|[0.88765563991879...|         0|\n",
      "| 42|    1934|        1934| 3244642|       1707| 451529308| 9.7804515293E12|   Louisa May Alcott|                   1868.0|        Little Women|Little Women (Lit...|        en-US|             4|      1257121|           1314293|                  17090|  31645.0|    70011|   250794|   426280|   535563|https://s.gr-asse...|https://s.gr-asse...|[1707.0,4.5152930...|[9.52973696441116...|         2|\n",
      "| 43|   10210|       10210| 2977639|       2568| 142437204|9.78014243721E12|Charlotte Brontë,...|                   1847.0|           Jane Eyre|           Jane Eyre|          eng|             4|      1198557|           1286135|                  31212|  35132.0|    64274|   212294|   400214|   574221|https://images.gr...|https://images.gr...|[2568.0,1.4243720...|[14.3364759956695...|         1|\n",
      "| 44|   15931|       15931| 1498135|        190| 553816713|9.78055381672E12|     Nicholas Sparks|                   1996.0|        The Notebook|The Notebook (The...|          eng|             4|      1053403|           1076749|                  17279|  41395.0|    63432|   176469|   298259|   497194|https://images.gr...|https://images.gr...|[190.0,5.53816713...|[1.06072057600358...|         0|\n",
      "| 46|   43641|       43641| 3441236|        128|1565125606| 9.7815651256E12|          Sara Gruen|                   2006.0| Water for Elephants| Water for Elephants|          eng|             4|      1068146|           1108839|                  55732|  16705.0|    49832|   200154|   417328|   424820|https://images.gr...|https://images.gr...|[128.0,1.56512560...|[0.71459070383399...|         4|\n",
      "| 47|   19063|       19063|  878368|        251| 375831002|  9.780375831E12|        Markus Zusak|                   2005.0|      The Book Thief|      The Book Thief|          eng|             4|      1159741|           1287798|                  93611|  17892.0|    35360|   135272|   377218|   722056|https://images.gr...|https://images.gr...|[251.0,3.75831002...|[1.40126770829947...|         2|\n",
      "| 48|    4381|        4381| 1272463|        507| 307347974|9.78030734798E12|        Ray Bradbury|                   1953.0|      Fahrenheit 451|      Fahrenheit 451|          spa|             3|       570498|           1176240|                  30694|  28366.0|    64289|   238242|   426292|   419051|https://images.gr...|https://images.gr...|[507.0,3.07347974...|[2.83044911596746...|         2|\n",
      "| 49|   49041|       49041| 3203964|        194| 316160199|9.78031616019E12|     Stephenie Meyer|                   2006.0|New Moon (Twiligh...|New Moon (Twiligh...|          eng|             3|      1149630|           1199000|                  44020| 102837.0|   160660|   294207|   290612|   350684|https://images.gr...|https://images.gr...|[194.0,3.16160199...|[1.08305153549839...|         2|\n",
      "| 50|   30119|       30119|   30518|         45|  60513039|9.78006051303E12|    Shel Silverstein|                   1974.0|Where the Sidewal...|Where the Sidewal...|          eng|             4|      1016888|           1023781|                   9234|  16590.0|    30792|   139024|   293222|   544153|https://images.gr...|https://images.gr...|[45.0,6.0513039E7...|[0.25122329431663...|         1|\n",
      "| 51|  256683|      256683| 2267189|        178|1416914285|9.78141691428E12|     Cassandra Clare|                   2007.0|       City of Bones|City of Bones (Th...|          eng|             4|      1154031|           1241799|                  51589|  34122.0|    65349|   203466|   356048|   582814|https://images.gr...|https://images.gr...|[178.0,1.41691428...|[0.99372769751914...|         4|\n",
      "+---+--------+------------+--------+-----------+----------+----------------+--------------------+-------------------------+--------------------+--------------------+-------------+--------------+-------------+------------------+-----------------------+---------+---------+---------+---------+---------+--------------------+--------------------+--------------------+--------------------+----------+\n",
      "only showing top 50 rows\n",
      "\n"
     ]
    }
   ],
   "source": [
    "# Finding cluster position for each book\n",
    "\n",
    "rpred = pred.collect()\n",
    "pred_df = sqlContext.createDataFrame(rpred)\n",
    "pred_df.show(50)"
   ]
  },
  {
   "cell_type": "markdown",
   "id": "32eee925",
   "metadata": {},
   "source": [
    "# Finding the best recommended book by ALS Algorithm"
   ]
  },
  {
   "cell_type": "code",
   "execution_count": 40,
   "id": "84d27372",
   "metadata": {},
   "outputs": [
    {
     "name": "stdout",
     "output_type": "stream",
     "text": [
      "+----+\n",
      "|  id|\n",
      "+----+\n",
      "|5207|\n",
      "+----+\n",
      "\n"
     ]
    }
   ],
   "source": [
    "# Finding the best recommended book by ALS Algorithm\n",
    "\n",
    "top_als = book_output.head(1)\n",
    "top_als = spark.createDataFrame(top_als)\n",
    "top_als = top_als.select('id')\n",
    "top_als.show()"
   ]
  },
  {
   "cell_type": "markdown",
   "id": "891eb330",
   "metadata": {},
   "source": [
    "#  Finding cluster value for above selected book id"
   ]
  },
  {
   "cell_type": "code",
   "execution_count": 41,
   "id": "ed7d6c3d",
   "metadata": {},
   "outputs": [
    {
     "name": "stdout",
     "output_type": "stream",
     "text": [
      "+----+-------+------------+-------+-----------+---------+----------------+--------------+-------------------------+--------------------+--------------------+-------------+--------------+-------------+------------------+-----------------------+---------+---------+---------+---------+---------+--------------------+--------------------+--------------------+--------------------+----------+\n",
      "|  id|book_id|best_book_id|work_id|books_count|     isbn|          isbn13|       authors|original_publication_year|      original_title|               title|language_code|average_rating|ratings_count|work_ratings_count|work_text_reviews_count|ratings_1|ratings_2|ratings_3|ratings_4|ratings_5|           image_url|     small_image_url|            features|        standardized|prediction|\n",
      "+----+-------+------------+-------+-----------+---------+----------------+--------------+-------------------------+--------------------+--------------------+-------------+--------------+-------------+------------------+-----------------------+---------+---------+---------+---------+---------+--------------------+--------------------+--------------------+--------------------+----------+\n",
      "|5207|  24818|       24818| 946589|         28|836217357|9.78083621735E12|Bill Watterson|                   1993.0|The Days Are Just...|The Days Are Just...|        en-US|             4|        19143|             20374|                    228|    114.0|      149|      942|     3636|    15533|https://images.gr...|https://images.gr...|[28.0,8.36217357E...|[0.15631671646368...|         0|\n",
      "+----+-------+------------+-------+-----------+---------+----------------+--------------+-------------------------+--------------------+--------------------+-------------+--------------+-------------+------------------+-----------------------+---------+---------+---------+---------+---------+--------------------+--------------------+--------------------+--------------------+----------+\n",
      "\n"
     ]
    }
   ],
   "source": [
    "# Finding cluster value for above selected book id\n",
    "\n",
    "k_topals = pred_df.join(top_als,'id','inner')\n",
    "k_topals.show()\n",
    "k_df = k_topals.select('prediction')\n",
    "bk_df = book_output.select('id','rate_prediction')"
   ]
  },
  {
   "cell_type": "code",
   "execution_count": 42,
   "id": "efbbec59",
   "metadata": {},
   "outputs": [
    {
     "name": "stdout",
     "output_type": "stream",
     "text": [
      "+----------+---+-------+------------+-------+-----------+---------+----------------+--------------------+-------------------------+--------------------+--------------------+-------------+--------------+-------------+------------------+-----------------------+---------+---------+---------+---------+---------+--------------------+--------------------+--------------------+--------------------+\n",
      "|prediction| id|book_id|best_book_id|work_id|books_count|     isbn|          isbn13|             authors|original_publication_year|      original_title|               title|language_code|average_rating|ratings_count|work_ratings_count|work_text_reviews_count|ratings_1|ratings_2|ratings_3|ratings_4|ratings_5|           image_url|     small_image_url|            features|        standardized|\n",
      "+----------+---+-------+------------+-------+-----------+---------+----------------+--------------------+-------------------------+--------------------+--------------------+-------------+--------------+-------------+------------------+-----------------------+---------+---------+---------+---------+---------+--------------------+--------------------+--------------------+--------------------+\n",
      "|         0|  5|   4671|        4671| 245494|       1356|743273567|9.78074327356E12| F. Scott Fitzgerald|                   1925.0|    The Great Gatsby|    The Great Gatsby|          eng|             3|      2683664|           2773745|                  51992|  86236.0|   197621|   606158|   936012|   947718|https://images.gr...|https://images.gr...|[1356.0,7.4327356...|[7.57019526874138...|\n",
      "|         0|  7|   5907|        5907|1540236|        969|618260307| 9.7806182603E12|      J.R.R. Tolkien|                   1937.0|The Hobbit or The...|          The Hobbit|        en-US|             4|      2071616|           2196809|                  37653|  46023.0|    76784|   288649|   665635|  1119718|https://images.gr...|https://images.gr...|[969.0,6.18260307...|[5.40967493761828...|\n",
      "|         0| 10|   1885|        1885|3060926|       3455|679783261|9.78067978327E12|         Jane Austen|                   1813.0| Pride and Prejudice| Pride and Prejudice|          eng|             4|      2035490|           2191465|                  49152|  54700.0|    86485|   284852|   609755|  1155673|https://images.gr...|https://images.gr...|[3455.0,6.7978326...|[19.2883662636441...|\n",
      "|         0| 15|  48855|       48855|3532896|        710|553296981|9.78055329698E12|Anne Frank, Elean...|                   1947.0|Het Achterhuis: D...|The Diary of a Yo...|          eng|             4|      1972666|           2024493|                  20825|  45225.0|    91270|   355756|   656870|   875372|https://images.gr...|https://images.gr...|[710.0,5.53296981...|[3.96374531032919...|\n",
      "|         0| 18|      5|           5|2402163|        376|653969456|9.78043965548E12|J.K. Rowling, Mar...|                   1999.0|Harry Potter and ...|Harry Potter and ...|          eng|             4|      1832823|           1969375|                  36099|   6716.0|    20413|   166129|   509447|  1266670|https://images.gr...|https://images.gr...|[376.0,6.53969456...|[2.09911019251236...|\n",
      "|         0| 19|     34|          34|3204327|        566|618346252|9.78061834626E12|      J.R.R. Tolkien|                   1954.0| The Fellowship o...|The Fellowship of...|          eng|             4|      1766803|           1832541|                  15333|  38031.0|    55862|   202332|   493922|  1042394|https://images.gr...|https://images.gr...|[566.0,6.18346252...|[3.15983076851594...|\n",
      "|         0| 25| 136251|      136251|2963218|        263|545010225|9.78054501022E12|J.K. Rowling, Mar...|                   2007.0|Harry Potter and ...|Harry Potter and ...|          eng|             4|      1746574|           1847395|                  51942|   9363.0|    22245|   113646|   383914|  1318227|https://images.gr...|https://images.gr...|[263.0,5.45010225...|[1.46826058678391...|\n",
      "|         0| 29|  18135|       18135|3349450|       1937|743477111|9.78074347712E12|William Shakespea...|                   1595.0|An Excellent conc...|    Romeo and Juliet|          eng|             3|      1628519|           1672889|                  14778|  57980.0|   153179|   452673|   519822|   489235|https://images.gr...|https://images.gr...|[1937.0,7.4347711...|[10.8137671353628...|\n",
      "|         0| 33|    930|         929|1558965|        220|739326228|9.78073932622E12|       Arthur Golden|                   1997.0| Memoirs of a Geisha| Memoirs of a Geisha|          eng|             4|      1300209|           1418172|                  25605|  23500.0|    59033|   258700|   517157|   559782|https://s.gr-asse...|https://s.gr-asse...|[220.0,7.39326228...|[1.22820277221467...|\n",
      "|         0| 38|  14050|    18619684|2153746|        167|965818675|9.78096581867E12|  Audrey Niffenegger|                   2003.0|The Time Traveler...|The Time Traveler...|          eng|             3|       746287|           1308667|                  43382|  44339.0|    85429|   257805|   427210|   493884|https://images.gr...|https://images.gr...|[167.0,9.65818675...|[0.93231755890841...|\n",
      "|         0| 39|  13496|       13496|1466917|        101|553588486|9.78055358848E12|  George R.R. Martin|                   1996.0|   A Game of Thrones|A Game of Thrones...|          eng|             4|      1319204|           1442220|                  46205|  19988.0|    28983|   114092|   404583|   874574|https://images.gr...|https://images.gr...|[101.0,5.53588486...|[0.56385672724401...|\n",
      "|         0| 41|  28187|       28187|3346751|        159|786838655|9.78078683865E12|        Rick Riordan|                   2005.0| The Lightning Thief|The Lightning Thi...|          eng|             4|      1366265|           1411114|                  46006|  18303.0|    48294|   219638|   435514|   689365|https://images.gr...|https://images.gr...|[159.0,7.86838655...|[0.88765563991879...|\n",
      "|         0| 44|  15931|       15931|1498135|        190|553816713|9.78055381672E12|     Nicholas Sparks|                   1996.0|        The Notebook|The Notebook (The...|          eng|             4|      1053403|           1076749|                  17279|  41395.0|    63432|   176469|   298259|   497194|https://images.gr...|https://images.gr...|[190.0,5.53816713...|[1.06072057600358...|\n",
      "|         0| 56|1162543|     1162543|2960529|        183|653969456|9.78031606793E12|     Stephenie Meyer|                   2008.0|       Breaking Dawn|Breaking Dawn (Tw...|        en-US|             3|      1070245|           1107709|                  44550| 100994.0|   114893|   213402|   267706|   410714|https://images.gr...|https://images.gr...|[183.0,6.53969456...|[1.02164139688766...|\n",
      "|         0| 62| 119322|      119322|1536771|        287|679879242|9.78067987924E12|      Philip Pullman|                   1995.0|     Northern Lights|The Golden Compas...|          eng|             3|       953970|            994914|                  14915|  38382.0|    64591|   198764|   313147|   380030|https://images.gr...|https://images.gr...|[287.0,6.79879242...|[1.60224634375278...|\n",
      "|         0| 64|  10917|       10917|1639903|        125|743454537|9.78074345454E12|        Jodi Picoult|                   2004.0|  My Sister's Keeper|  My Sister's Keeper|          eng|             4|       863879|            887880|                  30719|  17547.0|    42763|   162573|   314003|   350994|https://images.gr...|https://images.gr...|[125.0,7.43454537...|[0.69784248421288...|\n",
      "|         0| 68|  22628|       22628|2236198|        128|671027344|9.78067102735E12|     Stephen Chbosky|                   1999.0|The Perks of Bein...|The Perks of Bein...|          eng|             4|       888806|            954905|                  47116|  14286.0|    38658|   143440|   297501|   461020|https://images.gr...|https://images.gr...|[128.0,6.71027344...|[0.71459070383399...|\n",
      "|         0| 70| 375802|      375802|2422333|        224|812550706| 9.7808125507E12|    Orson Scott Card|                   1985.0|        Ender's Game|Ender's Game (End...|          eng|             4|       813439|            873417|                  38054|  15330.0|    27612|   103439|   264207|   462829|https://images.gr...|https://images.gr...|[224.0,8.12550706...|[1.25053373170949...|\n",
      "|         0| 81|   7445|        7445|2944133|         92|653969456|9.78074324754E12|     Jeannette Walls|                   2005.0|    The Glass Castle|    The Glass Castle|          eng|             4|       621099|            637866|                  40777|   7901.0|    18922|    85191|   227750|   298102|https://images.gr...|https://images.gr...|[92.0,6.53969456E...|[0.51361206838068...|\n",
      "|         0| 84|   7677|     6424171|3376836|        176|653969456|9.78030734814E12|    Michael Crichton|                   1990.0|       Jurassic Park|Jurassic Park (Ju...|          spa|             3|       447833|            650483|                   8143|  15736.0|    34222|   138327|   231583|   230615|https://s.gr-asse...|https://s.gr-asse...|[176.0,6.53969456...|[0.98256221777174...|\n",
      "+----------+---+-------+------------+-------+-----------+---------+----------------+--------------------+-------------------------+--------------------+--------------------+-------------+--------------+-------------+------------------+-----------------------+---------+---------+---------+---------+---------+--------------------+--------------------+--------------------+--------------------+\n",
      "only showing top 20 rows\n",
      "\n"
     ]
    }
   ],
   "source": [
    "k_means_op = pred_df.join(k_df,'prediction')\n",
    "k_means_op.show()"
   ]
  },
  {
   "cell_type": "markdown",
   "id": "1ebd8db1",
   "metadata": {},
   "source": [
    "Finding the books recommended by ALS Algorithm and lying in the same cluster as the highly recommended book from ALS\n"
   ]
  },
  {
   "cell_type": "code",
   "execution_count": 43,
   "id": "a36914f5",
   "metadata": {
    "scrolled": false
   },
   "outputs": [
    {
     "name": "stdout",
     "output_type": "stream",
     "text": [
      "+----+--------------------+--------------------+-------------------------+-------------+------------------+----------+\n",
      "|  id|             authors|      original_title|original_publication_year|language_code|   rate_prediction|prediction|\n",
      "+----+--------------------+--------------------+-------------------------+-------------+------------------+----------+\n",
      "|6361|      Bill Watterson|There's Treasure ...|                   1996.0|          eng| 4.305248737335205|         0|\n",
      "|7254|      Bill Watterson|Homicidal Psycho ...|                   1994.0|          eng| 4.406615257263184|         0|\n",
      "|4483|      Bill Watterson|It's a Magical Wo...|                   1996.0|          eng| 4.395471096038818|         0|\n",
      "|6920|      Bill Watterson|The Indispensable...|                   1992.0|          eng| 4.458487510681152|         0|\n",
      "|5207|      Bill Watterson|The Days Are Just...|                   1993.0|        en-US| 4.522234916687012|         0|\n",
      "|1788|      Bill Watterson|The Calvin and Ho...|                   1995.0|          eng| 4.440154552459717|         0|\n",
      "| 780|Bill Watterson, G...|   Calvin and Hobbes|                   1987.0|        en-US|4.3392133712768555|         0|\n",
      "|5580|      Bill Watterson|The Calvin and Ho...|                   1989.0|          eng| 4.308488845825195|         0|\n",
      "|3628|      Bill Watterson|The Complete Calv...|                   2005.0|          eng| 4.379123687744141|         0|\n",
      "| 862|   Brandon Sanderson|   Words of Radiance|                   2014.0|          eng|4.4056901931762695|         0|\n",
      "|6590|      Bill Watterson|The Authoritative...|                   1990.0|          eng| 4.479695796966553|         0|\n",
      "+----+--------------------+--------------------+-------------------------+-------------+------------------+----------+\n",
      "\n"
     ]
    }
   ],
   "source": [
    "# Finding the books recommended by ALS Algorithm and lying in the same cluster as the highly recommended book from ALS\n",
    "\n",
    "final_reco = pred_df.join(bk_df,'id','inner').join(k_df,'prediction','inner')\n",
    "final_reco = final_reco.select('id', 'authors', 'original_title', 'original_publication_year', 'language_code', 'rate_prediction', 'prediction')\n",
    "final_reco.show()"
   ]
  },
  {
   "cell_type": "markdown",
   "id": "074f14e2",
   "metadata": {},
   "source": [
    "# Finding highest rated books for New User"
   ]
  },
  {
   "cell_type": "code",
   "execution_count": 53,
   "id": "2c0691b1",
   "metadata": {},
   "outputs": [
    {
     "name": "stdout",
     "output_type": "stream",
     "text": [
      "+---+--------+------------+--------+-----------+----------+----------------+--------------------+-------------------------+--------------------+--------------------+-------------+--------------+-------------+------------------+-----------------------+---------+---------+---------+---------+---------+--------------------+--------------------+\n",
      "| id| book_id|best_book_id| work_id|books_count|      isbn|          isbn13|             authors|original_publication_year|      original_title|               title|language_code|average_rating|ratings_count|work_ratings_count|work_text_reviews_count|ratings_1|ratings_2|ratings_3|ratings_4|ratings_5|           image_url|     small_image_url|\n",
      "+---+--------+------------+--------+-----------+----------+----------------+--------------------+-------------------------+--------------------+--------------------+-------------+--------------+-------------+------------------+-----------------------+---------+---------+---------+---------+---------+--------------------+--------------------+\n",
      "|  1| 2767052|     2767052| 2792775|        272| 439023483|9.78043902348E12|     Suzanne Collins|                   2008.0|    The Hunger Games|The Hunger Games ...|          eng|             4|      4780653|           4942365|                 155254|  66715.0|   127936|   560092|  1481305|  2706317|https://images.gr...|https://images.gr...|\n",
      "|  2|       3|           3| 4640799|        491| 439554934|9.78043955493E12|J.K. Rowling, Mar...|                   1997.0|Harry Potter and ...|Harry Potter and ...|          eng|             4|      4602479|           4800065|                  75867|  75504.0|   101676|   455024|  1156318|  3011543|https://images.gr...|https://images.gr...|\n",
      "|  4|    2657|        2657| 3275794|        487|  61120081|9.78006112008E12|          Harper Lee|                   1960.0|To Kill a Mocking...|To Kill a Mocking...|          eng|             4|      3198671|           3340896|                  72586|  60427.0|   117415|   446835|  1001952|  1714267|https://images.gr...|https://images.gr...|\n",
      "|  6|11870085|    11870085|16827462|        226| 525478817|9.78052547881E12|          John Green|                   2012.0|The Fault in Our ...|The Fault in Our ...|          eng|             4|      2346404|           2478609|                 140739|  47994.0|    92723|   327550|   698471|  1311871|https://images.gr...|https://images.gr...|\n",
      "|  7|    5907|        5907| 1540236|        969| 618260307| 9.7806182603E12|      J.R.R. Tolkien|                   1937.0|The Hobbit or The...|          The Hobbit|        en-US|             4|      2071616|           2196809|                  37653|  46023.0|    76784|   288649|   665635|  1119718|https://images.gr...|https://images.gr...|\n",
      "| 10|    1885|        1885| 3060926|       3455| 679783261|9.78067978327E12|         Jane Austen|                   1813.0| Pride and Prejudice| Pride and Prejudice|          eng|             4|      2035490|           2191465|                  49152|  54700.0|    86485|   284852|   609755|  1155673|https://images.gr...|https://images.gr...|\n",
      "| 15|   48855|       48855| 3532896|        710| 553296981|9.78055329698E12|Anne Frank, Elean...|                   1947.0|Het Achterhuis: D...|The Diary of a Yo...|          eng|             4|      1972666|           2024493|                  20825|  45225.0|    91270|   355756|   656870|   875372|https://images.gr...|https://images.gr...|\n",
      "| 13|    5470|        5470|  153313|        995| 451524934|9.78045152494E12|George Orwell, Er...|                   1949.0|Nineteen Eighty-Four|                1984|          eng|             4|      1956832|           2053394|                  45518|  41845.0|    86425|   324874|   692021|   908229|https://images.gr...|https://images.gr...|\n",
      "| 12|13335037|    13335037|13155899|        210|  62024035|9.78006202404E12|       Veronica Roth|                   2011.0|           Divergent|Divergent (Diverg...|          eng|             4|      1903563|           2216814|                 101023|  36315.0|    82870|   310297|   673028|  1114304|https://images.gr...|https://images.gr...|\n",
      "| 18|       5|           5| 2402163|        376| 653969456|9.78043965548E12|J.K. Rowling, Mar...|                   1999.0|Harry Potter and ...|Harry Potter and ...|          eng|             4|      1832823|           1969375|                  36099|   6716.0|    20413|   166129|   509447|  1266670|https://images.gr...|https://images.gr...|\n",
      "| 17| 6148028|     6148028| 6171458|        201| 439023491| 9.7804390235E12|     Suzanne Collins|                   2009.0|       Catching Fire|Catching Fire (Th...|          eng|             4|      1831039|           1988079|                  88538|  10492.0|    48030|   262010|   687238|   980309|https://images.gr...|https://images.gr...|\n",
      "| 11|   77203|       77203| 3295919|        283|1594480001|   9.78159448E12|     Khaled Hosseini|                   2003.0|    The Kite Runner |     The Kite Runner|          eng|             4|      1813044|           1878095|                  59730|  34288.0|    59980|   226062|   628174|   929591|https://images.gr...|https://images.gr...|\n",
      "| 16| 2429135|     2429135| 1708725|        274| 307269752|9.78030726975E12|Stieg Larsson, Re...|                   2005.0|Män som hatar kvi...|The Girl with the...|          eng|             4|      1808403|           1929834|                  62543|  54835.0|    86051|   285413|   667485|   836050|https://images.gr...|https://images.gr...|\n",
      "| 23|   15881|       15881| 6231171|        398| 439064864|9.78043906487E12|J.K. Rowling, Mar...|                   1998.0|Harry Potter and ...|Harry Potter and ...|          eng|             4|      1779331|           1906199|                  34172|   8253.0|    42251|   242345|   548266|  1065084|https://images.gr...|https://images.gr...|\n",
      "| 19|      34|          34| 3204327|        566| 618346252|9.78061834626E12|      J.R.R. Tolkien|                   1954.0| The Fellowship o...|The Fellowship of...|          eng|             4|      1766803|           1832541|                  15333|  38031.0|    55862|   202332|   493922|  1042394|https://images.gr...|https://images.gr...|\n",
      "| 24|       6|           6| 3046572|        332| 439139600| 9.7804391396E12|J.K. Rowling, Mar...|                   2000.0|Harry Potter and ...|Harry Potter and ...|          eng|             4|      1753043|           1868642|                  31084|   6676.0|    20210|   151785|   494926|  1195045|https://images.gr...|https://images.gr...|\n",
      "| 25|  136251|      136251| 2963218|        263| 545010225|9.78054501022E12|J.K. Rowling, Mar...|                   2007.0|Harry Potter and ...|Harry Potter and ...|          eng|             4|      1746574|           1847395|                  51942|   9363.0|    22245|   113646|   383914|  1318227|https://images.gr...|https://images.gr...|\n",
      "| 21|       2|           2| 2809203|        307| 439358078|9.78043935807E12|J.K. Rowling, Mar...|                   2003.0|Harry Potter and ...|Harry Potter and ...|          eng|             4|      1735368|           1840548|                  28685|   9528.0|    31577|   180210|   494427|  1124806|https://images.gr...|https://images.gr...|\n",
      "| 20| 7260188|     7260188| 8812783|        239| 439023513|9.78043902351E12|     Suzanne Collins|                   2010.0|          Mockingjay|Mockingjay (The H...|          eng|             4|      1719760|           1870748|                  96274|  30144.0|   110498|   373060|   618271|   738775|https://images.gr...|https://images.gr...|\n",
      "| 27|       1|           1|41335427|        275| 439785960|9.78043978597E12|J.K. Rowling, Mar...|                   2005.0|Harry Potter and ...|Harry Potter and ...|          eng|             4|      1678823|           1785676|                  27520|   7308.0|    21516|   136333|   459028|  1161491|https://images.gr...|https://images.gr...|\n",
      "+---+--------+------------+--------+-----------+----------+----------------+--------------------+-------------------------+--------------------+--------------------+-------------+--------------+-------------+------------------+-----------------------+---------+---------+---------+---------+---------+--------------------+--------------------+\n",
      "only showing top 20 rows\n",
      "\n"
     ]
    }
   ],
   "source": [
    "# Finding highest rated books for New User\n",
    "\n",
    "new_rate = bks_df.sort(bks_df.average_rating.desc(), bks_df.ratings_count.desc(), bks_df.ratings_1.desc(), bks_df.ratings_2.desc(), bks_df.ratings_3.desc(), bks_df.ratings_4.desc(), bks_df.ratings_5.desc())\n",
    "new_rate.show()"
   ]
  },
  {
   "cell_type": "code",
   "execution_count": 45,
   "id": "ea152e4d",
   "metadata": {},
   "outputs": [],
   "source": [
    "new_top = new_rate.head(1)\n",
    "new_top = spark.createDataFrame(new_top)\n",
    "new_top = new_top.select('id')"
   ]
  },
  {
   "cell_type": "code",
   "execution_count": 46,
   "id": "64573f75",
   "metadata": {},
   "outputs": [],
   "source": [
    "new_cluster = pred_df.join(new_top,'id','inner')\n",
    "new_cluster = new_cluster.select('prediction')"
   ]
  },
  {
   "cell_type": "code",
   "execution_count": null,
   "id": "5b3d4218",
   "metadata": {},
   "outputs": [],
   "source": [
    "# empDF.join(deptDF,empDF.emp_dept_id ==  deptDF.dept_id,\"inner\").show(truncate=False)\n",
    "new_rec_df = new_recommend.toPandas()"
   ]
  },
  {
   "cell_type": "markdown",
   "id": "002cdcf4",
   "metadata": {},
   "source": [
    "# Final output for new user"
   ]
  },
  {
   "cell_type": "code",
   "execution_count": 70,
   "id": "5895a008",
   "metadata": {},
   "outputs": [
    {
     "data": {
      "text/html": [
       "<div>\n",
       "<style scoped>\n",
       "    .dataframe tbody tr th:only-of-type {\n",
       "        vertical-align: middle;\n",
       "    }\n",
       "\n",
       "    .dataframe tbody tr th {\n",
       "        vertical-align: top;\n",
       "    }\n",
       "\n",
       "    .dataframe thead th {\n",
       "        text-align: right;\n",
       "    }\n",
       "</style>\n",
       "<table border=\"1\" class=\"dataframe\">\n",
       "  <thead>\n",
       "    <tr style=\"text-align: right;\">\n",
       "      <th></th>\n",
       "      <th>prediction</th>\n",
       "      <th>id</th>\n",
       "      <th>book_id</th>\n",
       "      <th>best_book_id</th>\n",
       "      <th>work_id</th>\n",
       "      <th>books_count</th>\n",
       "      <th>isbn</th>\n",
       "      <th>isbn13</th>\n",
       "      <th>authors</th>\n",
       "      <th>original_publication_year</th>\n",
       "      <th>original_title</th>\n",
       "      <th>title</th>\n",
       "      <th>language_code</th>\n",
       "      <th>average_rating</th>\n",
       "      <th>ratings_count</th>\n",
       "      <th>work_ratings_count</th>\n",
       "    </tr>\n",
       "  </thead>\n",
       "  <tbody>\n",
       "    <tr>\n",
       "      <th>0</th>\n",
       "      <td>2</td>\n",
       "      <td>1</td>\n",
       "      <td>2767052</td>\n",
       "      <td>2767052</td>\n",
       "      <td>2792775</td>\n",
       "      <td>272</td>\n",
       "      <td>439023483</td>\n",
       "      <td>9.780439e+12</td>\n",
       "      <td>Suzanne Collins</td>\n",
       "      <td>2008.0</td>\n",
       "      <td>The Hunger Games</td>\n",
       "      <td>The Hunger Games (The Hunger Games, #1)</td>\n",
       "      <td>eng</td>\n",
       "      <td>4</td>\n",
       "      <td>4780653</td>\n",
       "      <td>4942365</td>\n",
       "    </tr>\n",
       "    <tr>\n",
       "      <th>1</th>\n",
       "      <td>2</td>\n",
       "      <td>2</td>\n",
       "      <td>3</td>\n",
       "      <td>3</td>\n",
       "      <td>4640799</td>\n",
       "      <td>491</td>\n",
       "      <td>439554934</td>\n",
       "      <td>9.780440e+12</td>\n",
       "      <td>J.K. Rowling, Mary GrandPré</td>\n",
       "      <td>1997.0</td>\n",
       "      <td>Harry Potter and the Philosopher's Stone</td>\n",
       "      <td>Harry Potter and the Sorcerer's Stone (Harry P...</td>\n",
       "      <td>eng</td>\n",
       "      <td>4</td>\n",
       "      <td>4602479</td>\n",
       "      <td>4800065</td>\n",
       "    </tr>\n",
       "    <tr>\n",
       "      <th>2</th>\n",
       "      <td>2</td>\n",
       "      <td>3</td>\n",
       "      <td>41865</td>\n",
       "      <td>41865</td>\n",
       "      <td>3212258</td>\n",
       "      <td>226</td>\n",
       "      <td>316015849</td>\n",
       "      <td>9.780316e+12</td>\n",
       "      <td>Stephenie Meyer</td>\n",
       "      <td>2005.0</td>\n",
       "      <td>Twilight</td>\n",
       "      <td>Twilight (Twilight, #1)</td>\n",
       "      <td>en-US</td>\n",
       "      <td>3</td>\n",
       "      <td>3866839</td>\n",
       "      <td>3916824</td>\n",
       "    </tr>\n",
       "    <tr>\n",
       "      <th>3</th>\n",
       "      <td>2</td>\n",
       "      <td>6</td>\n",
       "      <td>11870085</td>\n",
       "      <td>11870085</td>\n",
       "      <td>16827462</td>\n",
       "      <td>226</td>\n",
       "      <td>525478817</td>\n",
       "      <td>9.780525e+12</td>\n",
       "      <td>John Green</td>\n",
       "      <td>2012.0</td>\n",
       "      <td>The Fault in Our Stars</td>\n",
       "      <td>The Fault in Our Stars</td>\n",
       "      <td>eng</td>\n",
       "      <td>4</td>\n",
       "      <td>2346404</td>\n",
       "      <td>2478609</td>\n",
       "    </tr>\n",
       "    <tr>\n",
       "      <th>4</th>\n",
       "      <td>2</td>\n",
       "      <td>8</td>\n",
       "      <td>5107</td>\n",
       "      <td>5107</td>\n",
       "      <td>3036731</td>\n",
       "      <td>360</td>\n",
       "      <td>316769177</td>\n",
       "      <td>9.780317e+12</td>\n",
       "      <td>J.D. Salinger</td>\n",
       "      <td>1951.0</td>\n",
       "      <td>The Catcher in the Rye</td>\n",
       "      <td>The Catcher in the Rye</td>\n",
       "      <td>eng</td>\n",
       "      <td>3</td>\n",
       "      <td>2044241</td>\n",
       "      <td>2120637</td>\n",
       "    </tr>\n",
       "  </tbody>\n",
       "</table>\n",
       "</div>"
      ],
      "text/plain": [
       "   prediction  id   book_id  best_book_id   work_id  books_count       isbn  \\\n",
       "0           2   1   2767052       2767052   2792775          272  439023483   \n",
       "1           2   2         3             3   4640799          491  439554934   \n",
       "2           2   3     41865         41865   3212258          226  316015849   \n",
       "3           2   6  11870085      11870085  16827462          226  525478817   \n",
       "4           2   8      5107          5107   3036731          360  316769177   \n",
       "\n",
       "         isbn13                      authors  original_publication_year  \\\n",
       "0  9.780439e+12              Suzanne Collins                     2008.0   \n",
       "1  9.780440e+12  J.K. Rowling, Mary GrandPré                     1997.0   \n",
       "2  9.780316e+12              Stephenie Meyer                     2005.0   \n",
       "3  9.780525e+12                   John Green                     2012.0   \n",
       "4  9.780317e+12                J.D. Salinger                     1951.0   \n",
       "\n",
       "                             original_title  \\\n",
       "0                          The Hunger Games   \n",
       "1  Harry Potter and the Philosopher's Stone   \n",
       "2                                  Twilight   \n",
       "3                    The Fault in Our Stars   \n",
       "4                    The Catcher in the Rye   \n",
       "\n",
       "                                               title language_code  \\\n",
       "0            The Hunger Games (The Hunger Games, #1)           eng   \n",
       "1  Harry Potter and the Sorcerer's Stone (Harry P...           eng   \n",
       "2                            Twilight (Twilight, #1)         en-US   \n",
       "3                             The Fault in Our Stars           eng   \n",
       "4                             The Catcher in the Rye           eng   \n",
       "\n",
       "   average_rating  ratings_count  work_ratings_count  \n",
       "0               4        4780653             4942365  \n",
       "1               4        4602479             4800065  \n",
       "2               3        3866839             3916824  \n",
       "3               4        2346404             2478609  \n",
       "4               3        2044241             2120637  "
      ]
     },
     "execution_count": 70,
     "metadata": {},
     "output_type": "execute_result"
    }
   ],
   "source": [
    "# Final output for new user\n",
    "\n",
    "new_recommend = pred_df.join(new_rate,'id','inner').join(new_cluster,'prediction','inner')\n",
    "new_rec_df = new_recommend.toPandas()\n",
    "new_rec_df = new_rec_df.iloc[:,:-32]\n",
    "new_rec_df.head()"
   ]
  },
  {
   "cell_type": "code",
   "execution_count": null,
   "id": "716c8003",
   "metadata": {},
   "outputs": [],
   "source": []
  }
 ],
 "metadata": {
  "kernelspec": {
   "display_name": "Python 3",
   "language": "python",
   "name": "python3"
  },
  "language_info": {
   "codemirror_mode": {
    "name": "ipython",
    "version": 3
   },
   "file_extension": ".py",
   "mimetype": "text/x-python",
   "name": "python",
   "nbconvert_exporter": "python",
   "pygments_lexer": "ipython3",
   "version": "3.8.8"
  }
 },
 "nbformat": 4,
 "nbformat_minor": 5
}
